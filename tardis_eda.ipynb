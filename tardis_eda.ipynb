{
 "cells": [
  {
   "cell_type": "markdown",
   "metadata": {},
   "source": [
    "We first import pandas to read, parse, store and do anything to our dataframe followed by numpy for matrices and math functions\n",
    "\n",
    "<img src=\"https://upload.wikimedia.org/wikipedia/commons/thumb/e/ed/Pandas_logo.svg/1920px-Pandas_logo.svg.png\" width=\"512\" height=\"207\">\n",
    "\n",
    "<img src=\"https://upload.wikimedia.org/wikipedia/commons/thumb/3/31/NumPy_logo_2020.svg/1920px-NumPy_logo_2020.svg.png\" width=\"512\" height=\"230\">\n",
    "\n"
   ]
  },
  {
   "cell_type": "code",
   "execution_count": 63,
   "metadata": {},
   "outputs": [],
   "source": [
    "import pandas as pd\n",
    "import numpy as np"
   ]
  },
  {
   "cell_type": "markdown",
   "metadata": {},
   "source": [
    "We start by reading the \"dataset.csv\" file and make it a dataframe <br>\n",
    "The delimiter in the dataset is ';'"
   ]
  },
  {
   "cell_type": "code",
   "execution_count": 64,
   "metadata": {},
   "outputs": [],
   "source": [
    "csv = pd.read_csv(\"dataset.csv\", sep=';')"
   ]
  },
  {
   "cell_type": "markdown",
   "metadata": {},
   "source": [
    "Remove all comment columns since they're not data"
   ]
  },
  {
   "cell_type": "code",
   "execution_count": 65,
   "metadata": {},
   "outputs": [],
   "source": [
    "csv = csv.drop(\"Cancellation comments\", axis=1)\n",
    "csv = csv.drop(\"Departure delay comments\", axis=1)\n",
    "csv = csv.drop(\"Arrival delay comments\", axis=1)"
   ]
  },
  {
   "cell_type": "markdown",
   "metadata": {},
   "source": [
    "Remove all duplicates"
   ]
  },
  {
   "cell_type": "code",
   "execution_count": 66,
   "metadata": {},
   "outputs": [],
   "source": [
    "csv = csv.drop_duplicates()"
   ]
  },
  {
   "cell_type": "markdown",
   "metadata": {},
   "source": [
    "# Clean Date column\n",
    "The date format must be %Y-%m (A year and a month) <br>\n",
    "We replace all wrong delimiters by a '-' <br>\n",
    "We convert all the strings to datetimes under the wanted format <br>\n",
    "We exclude all data from before 2000 and after today <br>"
   ]
  },
  {
   "cell_type": "code",
   "execution_count": 67,
   "metadata": {},
   "outputs": [],
   "source": [
    "csv[\"Date\"] = csv[\"Date\"].astype(str).str.replace(r\"(\\d{4})\\w(\\d{2})\", r\"\\1-\\2\", regex=True)\n",
    "csv[\"Date\"] = pd.to_datetime(csv[\"Date\"], errors=\"coerce\", format=\"%Y-%m\")\n",
    "today = pd.to_datetime(\"today\").normalize()\n",
    "csv.loc[(csv.Date < \"2000-01-01\") | (csv.Date > today), \"Date\"] = pd.NaT"
   ]
  },
  {
   "cell_type": "markdown",
   "metadata": {},
   "source": [
    "Clean Service column"
   ]
  },
  {
   "cell_type": "code",
   "execution_count": 68,
   "metadata": {},
   "outputs": [],
   "source": [
    "csv[\"Service\"] = csv[\"Service\"].convert_dtypes(str)"
   ]
  },
  {
   "cell_type": "markdown",
   "metadata": {},
   "source": [
    "Clean Departure station"
   ]
  },
  {
   "cell_type": "code",
   "execution_count": 69,
   "metadata": {},
   "outputs": [],
   "source": [
    "csv[\"Departure station\"] = csv[\"Departure station\"].convert_dtypes(str)\n",
    "mask = csv[\"Departure station\"].str.contains(r\".+\\d.+\", na=False)\n",
    "csv.loc[mask, \"Departure station\"] = np.nan"
   ]
  },
  {
   "cell_type": "markdown",
   "metadata": {},
   "source": [
    "Clean Arrival station"
   ]
  },
  {
   "cell_type": "code",
   "execution_count": 70,
   "metadata": {},
   "outputs": [],
   "source": [
    "csv[\"Arrival station\"] = csv[\"Arrival station\"].convert_dtypes(str)\n",
    "mask = csv[\"Arrival station\"].str.contains(r\".+\\d.+\", na=False)\n",
    "csv.loc[mask, \"Arrival station\"] = np.nan"
   ]
  },
  {
   "cell_type": "markdown",
   "metadata": {},
   "source": [
    "Clean Average journey time"
   ]
  },
  {
   "cell_type": "code",
   "execution_count": 71,
   "metadata": {},
   "outputs": [],
   "source": [
    "numbers_with_letters = csv[\"Average journey time\"].astype(str).str.contains(r\"[a-zA-Z]\", na=False)\n",
    "csv.loc[numbers_with_letters, \"Average journey time\"] = np.nan\n",
    "csv[\"Average journey time\"] = csv[\"Average journey time\"].convert_dtypes(float)\n",
    "csv.loc[csv[\"Average journey time\"] < 0, \"Average journey time\"] = np.nan"
   ]
  },
  {
   "cell_type": "markdown",
   "metadata": {},
   "source": [
    "Clean Number of scheduled trains"
   ]
  },
  {
   "cell_type": "code",
   "execution_count": 72,
   "metadata": {},
   "outputs": [],
   "source": [
    "numbers_with_letters = csv[\"Number of scheduled trains\"].astype(str).str.contains(r\"[a-zA-Z]\", na=False)\n",
    "csv.loc[numbers_with_letters, \"Number of scheduled trains\"] = np.nan\n",
    "csv.loc[csv[\"Number of scheduled trains\"] % 1 != 0, \"Number of scheduled trains\"] = np.nan\n",
    "csv[\"Number of scheduled trains\"] = csv[\"Number of scheduled trains\"].convert_dtypes(int)"
   ]
  },
  {
   "cell_type": "markdown",
   "metadata": {},
   "source": [
    "Clean Number of cancelled trains"
   ]
  },
  {
   "cell_type": "code",
   "execution_count": 73,
   "metadata": {},
   "outputs": [],
   "source": [
    "numbers_with_letters = csv[\"Number of cancelled trains\"].astype(str).str.contains(r\"[a-zA-Z]\", na=False)\n",
    "csv.loc[numbers_with_letters, \"Number of cancelled trains\"] = np.nan\n",
    "csv.loc[csv[\"Number of cancelled trains\"] % 1 != 0, \"Number of cancelled trains\"] = np.nan\n",
    "csv[\"Number of cancelled trains\"] = csv[\"Number of cancelled trains\"].convert_dtypes(int)\n"
   ]
  },
  {
   "cell_type": "markdown",
   "metadata": {},
   "source": [
    "Clean Number of trains delayed at departure"
   ]
  },
  {
   "cell_type": "code",
   "execution_count": 74,
   "metadata": {},
   "outputs": [],
   "source": [
    "numbers_with_letters = csv[\"Number of trains delayed at departure\"].astype(str).str.contains(r\"[a-zA-Z]\", na=False)\n",
    "csv.loc[numbers_with_letters, \"Number of trains delayed at departure\"] = np.nan\n",
    "csv.loc[csv[\"Number of trains delayed at departure\"] % 1 != 0, \"Number of trains delayed at departure\"] = np.nan\n",
    "csv.loc[csv[\"Number of trains delayed at departure\"] > csv[\"Number of scheduled trains\"], \"Number of trains delayed at departure\"] = np.nan\n",
    "csv[\"Number of trains delayed at departure\"] = csv[\"Number of trains delayed at departure\"].convert_dtypes(int)"
   ]
  },
  {
   "cell_type": "markdown",
   "metadata": {},
   "source": [
    "Clean Average delay of late trains at departure"
   ]
  },
  {
   "cell_type": "code",
   "execution_count": 75,
   "metadata": {},
   "outputs": [],
   "source": [
    "numbers_with_letters = csv[\"Average delay of late trains at departure\"].astype(str).str.contains(r\"[a-zA-Z]\", na=False)\n",
    "csv.loc[numbers_with_letters, \"Average delay of late trains at departure\"] = np.nan\n",
    "csv[\"Average delay of late trains at departure\"] = csv[\"Average delay of late trains at departure\"].convert_dtypes(float)\n",
    "csv.loc[csv[\"Average delay of late trains at departure\"] < 0, \"Average delay of late trains at departure\"] = np.nan"
   ]
  },
  {
   "cell_type": "markdown",
   "metadata": {},
   "source": [
    "Clean Average delay of all trains at departure"
   ]
  },
  {
   "cell_type": "code",
   "execution_count": null,
   "metadata": {},
   "outputs": [
    {
     "name": "stdout",
     "output_type": "stream",
     "text": [
      "<class 'pandas.core.frame.DataFrame'>\n",
      "Index: 10662 entries, 0 to 10839\n",
      "Data columns (total 23 columns):\n",
      " #   Column                                                                         Non-Null Count  Dtype         \n",
      "---  ------                                                                         --------------  -----         \n",
      " 0   Date                                                                           9874 non-null   datetime64[ns]\n",
      " 1   Service                                                                        10129 non-null  string        \n",
      " 2   Departure station                                                              10091 non-null  string        \n",
      " 3   Arrival station                                                                10101 non-null  string        \n",
      " 4   Average journey time                                                           9842 non-null   Float64       \n",
      " 5   Number of scheduled trains                                                     9330 non-null   Int64         \n",
      " 6   Number of cancelled trains                                                     9327 non-null   Int64         \n",
      " 7   Number of trains delayed at departure                                          9326 non-null   Int64         \n",
      " 8   Average delay of late trains at departure                                      9860 non-null   Float64       \n",
      " 9   Average delay of all trains at departure                                       9850 non-null   Float64       \n",
      " 10  Number of trains delayed at arrival                                            9847 non-null   float64       \n",
      " 11  Average delay of late trains at arrival                                        9854 non-null   float64       \n",
      " 12  Average delay of all trains at arrival                                         9853 non-null   float64       \n",
      " 13  Number of trains delayed > 15min                                               9840 non-null   float64       \n",
      " 14  Average delay of trains > 15min (if competing with flights)                    9851 non-null   float64       \n",
      " 15  Number of trains delayed > 30min                                               9845 non-null   float64       \n",
      " 16  Number of trains delayed > 60min                                               9841 non-null   float64       \n",
      " 17  Pct delay due to external causes                                               9851 non-null   float64       \n",
      " 18  Pct delay due to infrastructure                                                9840 non-null   float64       \n",
      " 19  Pct delay due to traffic management                                            9853 non-null   float64       \n",
      " 20  Pct delay due to rolling stock                                                 9852 non-null   float64       \n",
      " 21  Pct delay due to station management and equipment reuse                        9848 non-null   float64       \n",
      " 22  Pct delay due to passenger handling (crowding, disabled persons, connections)  9852 non-null   float64       \n",
      "dtypes: Float64(3), Int64(3), datetime64[ns](1), float64(13), string(3)\n",
      "memory usage: 2.0 MB\n"
     ]
    }
   ],
   "source": [
    "numbers_with_letters = csv[\"Average delay of all trains at departure\"].astype(str).str.contains(r\"[a-zA-Z]\", na=False)\n",
    "csv.loc[numbers_with_letters, \"Average delay of all trains at departure\"] = np.nan\n",
    "csv[\"Average delay of all trains at departure\"] = csv[\"Average delay of all trains at departure\"].convert_dtypes(float)\n",
    "csv.info()"
   ]
  },
  {
   "cell_type": "markdown",
   "metadata": {},
   "source": [
    "Clean Number of trains delayed at arrival"
   ]
  },
  {
   "cell_type": "code",
   "execution_count": 73,
   "metadata": {},
   "outputs": [],
   "source": [
    "\n"
   ]
  },
  {
   "cell_type": "markdown",
   "metadata": {},
   "source": [
    "Clean Average delay of late trains at arrival"
   ]
  },
  {
   "cell_type": "code",
   "execution_count": 74,
   "metadata": {},
   "outputs": [],
   "source": [
    "\n"
   ]
  },
  {
   "cell_type": "markdown",
   "metadata": {},
   "source": [
    "Clean Average delay of all trains at arrival"
   ]
  },
  {
   "cell_type": "code",
   "execution_count": 75,
   "metadata": {},
   "outputs": [],
   "source": []
  },
  {
   "cell_type": "markdown",
   "metadata": {},
   "source": [
    "Clean Number of trains delayed > 15 min"
   ]
  },
  {
   "cell_type": "code",
   "execution_count": 76,
   "metadata": {},
   "outputs": [],
   "source": []
  },
  {
   "cell_type": "markdown",
   "metadata": {},
   "source": [
    "Clean Average delay of trains > 15min (if competing with flights)"
   ]
  },
  {
   "cell_type": "code",
   "execution_count": 77,
   "metadata": {},
   "outputs": [],
   "source": []
  },
  {
   "cell_type": "markdown",
   "metadata": {},
   "source": [
    "Clean Number of trains delayed > 30min"
   ]
  },
  {
   "cell_type": "code",
   "execution_count": 78,
   "metadata": {},
   "outputs": [],
   "source": []
  },
  {
   "cell_type": "markdown",
   "metadata": {},
   "source": [
    "Clean Number of trains delayed > 60min"
   ]
  },
  {
   "cell_type": "code",
   "execution_count": 79,
   "metadata": {},
   "outputs": [],
   "source": []
  },
  {
   "cell_type": "markdown",
   "metadata": {},
   "source": [
    "Clean Pct delay due to external causes"
   ]
  },
  {
   "cell_type": "code",
   "execution_count": 80,
   "metadata": {},
   "outputs": [],
   "source": []
  },
  {
   "cell_type": "markdown",
   "metadata": {},
   "source": [
    "Clean Pct delay due to infrastructure"
   ]
  },
  {
   "cell_type": "code",
   "execution_count": 81,
   "metadata": {},
   "outputs": [],
   "source": []
  },
  {
   "cell_type": "markdown",
   "metadata": {},
   "source": [
    "CleanPct delay due to traffic management"
   ]
  },
  {
   "cell_type": "code",
   "execution_count": 82,
   "metadata": {},
   "outputs": [],
   "source": []
  },
  {
   "cell_type": "markdown",
   "metadata": {},
   "source": [
    "Clean Pct delay due to rolling stock"
   ]
  },
  {
   "cell_type": "code",
   "execution_count": 83,
   "metadata": {},
   "outputs": [],
   "source": []
  },
  {
   "cell_type": "markdown",
   "metadata": {},
   "source": [
    "Clean Pct delay due to station management and equipment reuse"
   ]
  },
  {
   "cell_type": "code",
   "execution_count": 84,
   "metadata": {},
   "outputs": [],
   "source": []
  },
  {
   "cell_type": "markdown",
   "metadata": {},
   "source": [
    "Clean Pct delay due to passenger handling (crowding, disabled persons, connections)"
   ]
  },
  {
   "cell_type": "code",
   "execution_count": null,
   "metadata": {},
   "outputs": [],
   "source": []
  }
 ],
 "metadata": {
  "kernelspec": {
   "display_name": "Python 3",
   "language": "python",
   "name": "python3"
  },
  "language_info": {
   "codemirror_mode": {
    "name": "ipython",
    "version": 3
   },
   "file_extension": ".py",
   "mimetype": "text/x-python",
   "name": "python",
   "nbconvert_exporter": "python",
   "pygments_lexer": "ipython3",
   "version": "3.12.3"
  }
 },
 "nbformat": 4,
 "nbformat_minor": 2
}
