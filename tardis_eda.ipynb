{
 "cells": [
  {
   "cell_type": "markdown",
   "metadata": {},
   "source": [
    "Initial read <br>\n",
    "The delimiter is ';'"
   ]
  },
  {
   "cell_type": "code",
   "execution_count": 49,
   "metadata": {},
   "outputs": [
    {
     "name": "stdout",
     "output_type": "stream",
     "text": [
      "<class 'pandas.core.frame.DataFrame'>\n",
      "RangeIndex: 10840 entries, 0 to 10839\n",
      "Data columns (total 26 columns):\n",
      " #   Column                                                                         Non-Null Count  Dtype  \n",
      "---  ------                                                                         --------------  -----  \n",
      " 0   Date                                                                           10299 non-null  object \n",
      " 1   Service                                                                        10288 non-null  object \n",
      " 2   Departure station                                                              10298 non-null  object \n",
      " 3   Arrival station                                                                10293 non-null  object \n",
      " 4   Average journey time                                                           10010 non-null  float64\n",
      " 5   Number of scheduled trains                                                     10018 non-null  float64\n",
      " 6   Number of cancelled trains                                                     10012 non-null  float64\n",
      " 7   Cancellation comments                                                          0 non-null      float64\n",
      " 8   Number of trains delayed at departure                                          10014 non-null  float64\n",
      " 9   Average delay of late trains at departure                                      10030 non-null  float64\n",
      " 10  Average delay of all trains at departure                                       10017 non-null  float64\n",
      " 11  Departure delay comments                                                       0 non-null      float64\n",
      " 12  Number of trains delayed at arrival                                            10018 non-null  float64\n",
      " 13  Average delay of late trains at arrival                                        10023 non-null  float64\n",
      " 14  Average delay of all trains at arrival                                         10021 non-null  float64\n",
      " 15  Arrival delay comments                                                         686 non-null    object \n",
      " 16  Number of trains delayed > 15min                                               10012 non-null  float64\n",
      " 17  Average delay of trains > 15min (if competing with flights)                    10018 non-null  float64\n",
      " 18  Number of trains delayed > 30min                                               10012 non-null  float64\n",
      " 19  Number of trains delayed > 60min                                               10004 non-null  float64\n",
      " 20  Pct delay due to external causes                                               10024 non-null  float64\n",
      " 21  Pct delay due to infrastructure                                                10009 non-null  float64\n",
      " 22  Pct delay due to traffic management                                            10022 non-null  float64\n",
      " 23  Pct delay due to rolling stock                                                 10022 non-null  float64\n",
      " 24  Pct delay due to station management and equipment reuse                        10017 non-null  float64\n",
      " 25  Pct delay due to passenger handling (crowding, disabled persons, connections)  10018 non-null  float64\n",
      "dtypes: float64(21), object(5)\n",
      "memory usage: 2.2+ MB\n"
     ]
    }
   ],
   "source": [
    "import pandas as pd\n",
    "\n",
    "csv = pd.read_csv(\"dataset.csv\", sep=';')\n",
    "csv.info()"
   ]
  },
  {
   "cell_type": "markdown",
   "metadata": {},
   "source": [
    "Remove all comment columns since they're not data"
   ]
  },
  {
   "cell_type": "code",
   "execution_count": 50,
   "metadata": {},
   "outputs": [
    {
     "name": "stdout",
     "output_type": "stream",
     "text": [
      "<class 'pandas.core.frame.DataFrame'>\n",
      "RangeIndex: 10840 entries, 0 to 10839\n",
      "Data columns (total 23 columns):\n",
      " #   Column                                                                         Non-Null Count  Dtype  \n",
      "---  ------                                                                         --------------  -----  \n",
      " 0   Date                                                                           10299 non-null  object \n",
      " 1   Service                                                                        10288 non-null  object \n",
      " 2   Departure station                                                              10298 non-null  object \n",
      " 3   Arrival station                                                                10293 non-null  object \n",
      " 4   Average journey time                                                           10010 non-null  float64\n",
      " 5   Number of scheduled trains                                                     10018 non-null  float64\n",
      " 6   Number of cancelled trains                                                     10012 non-null  float64\n",
      " 7   Number of trains delayed at departure                                          10014 non-null  float64\n",
      " 8   Average delay of late trains at departure                                      10030 non-null  float64\n",
      " 9   Average delay of all trains at departure                                       10017 non-null  float64\n",
      " 10  Number of trains delayed at arrival                                            10018 non-null  float64\n",
      " 11  Average delay of late trains at arrival                                        10023 non-null  float64\n",
      " 12  Average delay of all trains at arrival                                         10021 non-null  float64\n",
      " 13  Number of trains delayed > 15min                                               10012 non-null  float64\n",
      " 14  Average delay of trains > 15min (if competing with flights)                    10018 non-null  float64\n",
      " 15  Number of trains delayed > 30min                                               10012 non-null  float64\n",
      " 16  Number of trains delayed > 60min                                               10004 non-null  float64\n",
      " 17  Pct delay due to external causes                                               10024 non-null  float64\n",
      " 18  Pct delay due to infrastructure                                                10009 non-null  float64\n",
      " 19  Pct delay due to traffic management                                            10022 non-null  float64\n",
      " 20  Pct delay due to rolling stock                                                 10022 non-null  float64\n",
      " 21  Pct delay due to station management and equipment reuse                        10017 non-null  float64\n",
      " 22  Pct delay due to passenger handling (crowding, disabled persons, connections)  10018 non-null  float64\n",
      "dtypes: float64(19), object(4)\n",
      "memory usage: 1.9+ MB\n"
     ]
    }
   ],
   "source": [
    "csv = csv.drop(\"Cancellation comments\", axis=1)\n",
    "csv = csv.drop(\"Departure delay comments\", axis=1)\n",
    "csv = csv.drop(\"Arrival delay comments\", axis=1)\n",
    "csv.info()"
   ]
  },
  {
   "cell_type": "markdown",
   "metadata": {},
   "source": [
    "Remove all duplicates"
   ]
  },
  {
   "cell_type": "code",
   "execution_count": 51,
   "metadata": {},
   "outputs": [
    {
     "name": "stdout",
     "output_type": "stream",
     "text": [
      "<class 'pandas.core.frame.DataFrame'>\n",
      "Index: 10662 entries, 0 to 10839\n",
      "Data columns (total 23 columns):\n",
      " #   Column                                                                         Non-Null Count  Dtype  \n",
      "---  ------                                                                         --------------  -----  \n",
      " 0   Date                                                                           10128 non-null  object \n",
      " 1   Service                                                                        10129 non-null  object \n",
      " 2   Departure station                                                              10131 non-null  object \n",
      " 3   Arrival station                                                                10126 non-null  object \n",
      " 4   Average journey time                                                           9842 non-null   float64\n",
      " 5   Number of scheduled trains                                                     9853 non-null   float64\n",
      " 6   Number of cancelled trains                                                     9844 non-null   float64\n",
      " 7   Number of trains delayed at departure                                          9846 non-null   float64\n",
      " 8   Average delay of late trains at departure                                      9860 non-null   float64\n",
      " 9   Average delay of all trains at departure                                       9850 non-null   float64\n",
      " 10  Number of trains delayed at arrival                                            9847 non-null   float64\n",
      " 11  Average delay of late trains at arrival                                        9854 non-null   float64\n",
      " 12  Average delay of all trains at arrival                                         9853 non-null   float64\n",
      " 13  Number of trains delayed > 15min                                               9840 non-null   float64\n",
      " 14  Average delay of trains > 15min (if competing with flights)                    9851 non-null   float64\n",
      " 15  Number of trains delayed > 30min                                               9845 non-null   float64\n",
      " 16  Number of trains delayed > 60min                                               9841 non-null   float64\n",
      " 17  Pct delay due to external causes                                               9851 non-null   float64\n",
      " 18  Pct delay due to infrastructure                                                9840 non-null   float64\n",
      " 19  Pct delay due to traffic management                                            9853 non-null   float64\n",
      " 20  Pct delay due to rolling stock                                                 9852 non-null   float64\n",
      " 21  Pct delay due to station management and equipment reuse                        9848 non-null   float64\n",
      " 22  Pct delay due to passenger handling (crowding, disabled persons, connections)  9852 non-null   float64\n",
      "dtypes: float64(19), object(4)\n",
      "memory usage: 2.0+ MB\n"
     ]
    }
   ],
   "source": [
    "csv = csv.drop_duplicates()\n",
    "csv.info()"
   ]
  },
  {
   "cell_type": "markdown",
   "metadata": {},
   "source": [
    "Clean Date column"
   ]
  },
  {
   "cell_type": "code",
   "execution_count": 52,
   "metadata": {},
   "outputs": [
    {
     "name": "stdout",
     "output_type": "stream",
     "text": [
      "<class 'pandas.core.frame.DataFrame'>\n",
      "Index: 9840 entries, 0 to 10839\n",
      "Data columns (total 23 columns):\n",
      " #   Column                                                                         Non-Null Count  Dtype         \n",
      "---  ------                                                                         --------------  -----         \n",
      " 0   Date                                                                           9840 non-null   datetime64[ns]\n",
      " 1   Service                                                                        9342 non-null   object        \n",
      " 2   Departure station                                                              9346 non-null   object        \n",
      " 3   Arrival station                                                                9341 non-null   object        \n",
      " 4   Average journey time                                                           9092 non-null   float64       \n",
      " 5   Number of scheduled trains                                                     9087 non-null   float64       \n",
      " 6   Number of cancelled trains                                                     9087 non-null   float64       \n",
      " 7   Number of trains delayed at departure                                          9089 non-null   float64       \n",
      " 8   Average delay of late trains at departure                                      9105 non-null   float64       \n",
      " 9   Average delay of all trains at departure                                       9102 non-null   float64       \n",
      " 10  Number of trains delayed at arrival                                            9090 non-null   float64       \n",
      " 11  Average delay of late trains at arrival                                        9087 non-null   float64       \n",
      " 12  Average delay of all trains at arrival                                         9100 non-null   float64       \n",
      " 13  Number of trains delayed > 15min                                               9082 non-null   float64       \n",
      " 14  Average delay of trains > 15min (if competing with flights)                    9090 non-null   float64       \n",
      " 15  Number of trains delayed > 30min                                               9083 non-null   float64       \n",
      " 16  Number of trains delayed > 60min                                               9087 non-null   float64       \n",
      " 17  Pct delay due to external causes                                               9102 non-null   float64       \n",
      " 18  Pct delay due to infrastructure                                                9098 non-null   float64       \n",
      " 19  Pct delay due to traffic management                                            9098 non-null   float64       \n",
      " 20  Pct delay due to rolling stock                                                 9092 non-null   float64       \n",
      " 21  Pct delay due to station management and equipment reuse                        9086 non-null   float64       \n",
      " 22  Pct delay due to passenger handling (crowding, disabled persons, connections)  9095 non-null   float64       \n",
      "dtypes: datetime64[ns](1), float64(19), object(3)\n",
      "memory usage: 1.8+ MB\n"
     ]
    }
   ],
   "source": [
    "csv[\"Date\"] = pd.to_datetime(csv[\"Date\"], errors=\"coerce\")\n",
    "csv.dropna(subset=\"Date\", inplace=True)\n",
    "csv.info()"
   ]
  },
  {
   "cell_type": "markdown",
   "metadata": {},
   "source": [
    "Clean Service column"
   ]
  },
  {
   "cell_type": "code",
   "execution_count": 53,
   "metadata": {},
   "outputs": [
    {
     "name": "stdout",
     "output_type": "stream",
     "text": [
      "<class 'pandas.core.frame.DataFrame'>\n",
      "Index: 9840 entries, 0 to 10839\n",
      "Data columns (total 23 columns):\n",
      " #   Column                                                                         Non-Null Count  Dtype         \n",
      "---  ------                                                                         --------------  -----         \n",
      " 0   Date                                                                           9840 non-null   datetime64[ns]\n",
      " 1   Service                                                                        9342 non-null   string        \n",
      " 2   Departure station                                                              9346 non-null   object        \n",
      " 3   Arrival station                                                                9341 non-null   object        \n",
      " 4   Average journey time                                                           9092 non-null   float64       \n",
      " 5   Number of scheduled trains                                                     9087 non-null   float64       \n",
      " 6   Number of cancelled trains                                                     9087 non-null   float64       \n",
      " 7   Number of trains delayed at departure                                          9089 non-null   float64       \n",
      " 8   Average delay of late trains at departure                                      9105 non-null   float64       \n",
      " 9   Average delay of all trains at departure                                       9102 non-null   float64       \n",
      " 10  Number of trains delayed at arrival                                            9090 non-null   float64       \n",
      " 11  Average delay of late trains at arrival                                        9087 non-null   float64       \n",
      " 12  Average delay of all trains at arrival                                         9100 non-null   float64       \n",
      " 13  Number of trains delayed > 15min                                               9082 non-null   float64       \n",
      " 14  Average delay of trains > 15min (if competing with flights)                    9090 non-null   float64       \n",
      " 15  Number of trains delayed > 30min                                               9083 non-null   float64       \n",
      " 16  Number of trains delayed > 60min                                               9087 non-null   float64       \n",
      " 17  Pct delay due to external causes                                               9102 non-null   float64       \n",
      " 18  Pct delay due to infrastructure                                                9098 non-null   float64       \n",
      " 19  Pct delay due to traffic management                                            9098 non-null   float64       \n",
      " 20  Pct delay due to rolling stock                                                 9092 non-null   float64       \n",
      " 21  Pct delay due to station management and equipment reuse                        9086 non-null   float64       \n",
      " 22  Pct delay due to passenger handling (crowding, disabled persons, connections)  9095 non-null   float64       \n",
      "dtypes: datetime64[ns](1), float64(19), object(2), string(1)\n",
      "memory usage: 1.8+ MB\n"
     ]
    }
   ],
   "source": [
    "csv[\"Service\"] = csv[\"Service\"].convert_dtypes()\n",
    "csv.info()"
   ]
  },
  {
   "cell_type": "markdown",
   "metadata": {},
   "source": [
    "Clean Departure station"
   ]
  },
  {
   "cell_type": "code",
   "execution_count": 54,
   "metadata": {},
   "outputs": [
    {
     "name": "stdout",
     "output_type": "stream",
     "text": [
      "<class 'pandas.core.frame.DataFrame'>\n",
      "Index: 9346 entries, 0 to 10839\n",
      "Data columns (total 23 columns):\n",
      " #   Column                                                                         Non-Null Count  Dtype         \n",
      "---  ------                                                                         --------------  -----         \n",
      " 0   Date                                                                           9346 non-null   datetime64[ns]\n",
      " 1   Service                                                                        8864 non-null   string        \n",
      " 2   Departure station                                                              9346 non-null   string        \n",
      " 3   Arrival station                                                                8879 non-null   object        \n",
      " 4   Average journey time                                                           8634 non-null   float64       \n",
      " 5   Number of scheduled trains                                                     8623 non-null   float64       \n",
      " 6   Number of cancelled trains                                                     8635 non-null   float64       \n",
      " 7   Number of trains delayed at departure                                          8642 non-null   float64       \n",
      " 8   Average delay of late trains at departure                                      8654 non-null   float64       \n",
      " 9   Average delay of all trains at departure                                       8641 non-null   float64       \n",
      " 10  Number of trains delayed at arrival                                            8636 non-null   float64       \n",
      " 11  Average delay of late trains at arrival                                        8640 non-null   float64       \n",
      " 12  Average delay of all trains at arrival                                         8648 non-null   float64       \n",
      " 13  Number of trains delayed > 15min                                               8635 non-null   float64       \n",
      " 14  Average delay of trains > 15min (if competing with flights)                    8637 non-null   float64       \n",
      " 15  Number of trains delayed > 30min                                               8616 non-null   float64       \n",
      " 16  Number of trains delayed > 60min                                               8628 non-null   float64       \n",
      " 17  Pct delay due to external causes                                               8641 non-null   float64       \n",
      " 18  Pct delay due to infrastructure                                                8633 non-null   float64       \n",
      " 19  Pct delay due to traffic management                                            8640 non-null   float64       \n",
      " 20  Pct delay due to rolling stock                                                 8628 non-null   float64       \n",
      " 21  Pct delay due to station management and equipment reuse                        8629 non-null   float64       \n",
      " 22  Pct delay due to passenger handling (crowding, disabled persons, connections)  8635 non-null   float64       \n",
      "dtypes: datetime64[ns](1), float64(19), object(1), string(2)\n",
      "memory usage: 1.7+ MB\n"
     ]
    }
   ],
   "source": [
    "csv = csv.dropna(subset=\"Departure station\")\n",
    "csv[\"Departure station\"] = csv[\"Departure station\"].convert_dtypes()\n",
    "csv.info()"
   ]
  },
  {
   "cell_type": "markdown",
   "metadata": {},
   "source": [
    "Clean Arrival station"
   ]
  },
  {
   "cell_type": "code",
   "execution_count": 55,
   "metadata": {},
   "outputs": [
    {
     "name": "stdout",
     "output_type": "stream",
     "text": [
      "<class 'pandas.core.frame.DataFrame'>\n",
      "Index: 8879 entries, 0 to 10839\n",
      "Data columns (total 23 columns):\n",
      " #   Column                                                                         Non-Null Count  Dtype         \n",
      "---  ------                                                                         --------------  -----         \n",
      " 0   Date                                                                           8879 non-null   datetime64[ns]\n",
      " 1   Service                                                                        8417 non-null   string        \n",
      " 2   Departure station                                                              8879 non-null   string        \n",
      " 3   Arrival station                                                                8879 non-null   string        \n",
      " 4   Average journey time                                                           8210 non-null   float64       \n",
      " 5   Number of scheduled trains                                                     8182 non-null   float64       \n",
      " 6   Number of cancelled trains                                                     8204 non-null   float64       \n",
      " 7   Number of trains delayed at departure                                          8206 non-null   float64       \n",
      " 8   Average delay of late trains at departure                                      8223 non-null   float64       \n",
      " 9   Average delay of all trains at departure                                       8202 non-null   float64       \n",
      " 10  Number of trains delayed at arrival                                            8200 non-null   float64       \n",
      " 11  Average delay of late trains at arrival                                        8208 non-null   float64       \n",
      " 12  Average delay of all trains at arrival                                         8217 non-null   float64       \n",
      " 13  Number of trains delayed > 15min                                               8200 non-null   float64       \n",
      " 14  Average delay of trains > 15min (if competing with flights)                    8204 non-null   float64       \n",
      " 15  Number of trains delayed > 30min                                               8199 non-null   float64       \n",
      " 16  Number of trains delayed > 60min                                               8191 non-null   float64       \n",
      " 17  Pct delay due to external causes                                               8211 non-null   float64       \n",
      " 18  Pct delay due to infrastructure                                                8194 non-null   float64       \n",
      " 19  Pct delay due to traffic management                                            8205 non-null   float64       \n",
      " 20  Pct delay due to rolling stock                                                 8201 non-null   float64       \n",
      " 21  Pct delay due to station management and equipment reuse                        8192 non-null   float64       \n",
      " 22  Pct delay due to passenger handling (crowding, disabled persons, connections)  8199 non-null   float64       \n",
      "dtypes: datetime64[ns](1), float64(19), string(3)\n",
      "memory usage: 1.6 MB\n"
     ]
    }
   ],
   "source": [
    "csv = csv.dropna(subset=\"Arrival station\")\n",
    "csv[\"Arrival station\"] = csv[\"Arrival station\"].convert_dtypes()\n",
    "csv.info()"
   ]
  },
  {
   "cell_type": "markdown",
   "metadata": {},
   "source": [
    "Clean Average journey time"
   ]
  },
  {
   "cell_type": "code",
   "execution_count": 56,
   "metadata": {},
   "outputs": [
    {
     "name": "stdout",
     "output_type": "stream",
     "text": [
      "<class 'pandas.core.frame.DataFrame'>\n",
      "Index: 8210 entries, 0 to 10839\n",
      "Data columns (total 23 columns):\n",
      " #   Column                                                                         Non-Null Count  Dtype         \n",
      "---  ------                                                                         --------------  -----         \n",
      " 0   Date                                                                           8210 non-null   datetime64[ns]\n",
      " 1   Service                                                                        7789 non-null   string        \n",
      " 2   Departure station                                                              8210 non-null   string        \n",
      " 3   Arrival station                                                                8210 non-null   string        \n",
      " 4   Average journey time                                                           8210 non-null   Float64       \n",
      " 5   Number of scheduled trains                                                     7559 non-null   float64       \n",
      " 6   Number of cancelled trains                                                     7577 non-null   float64       \n",
      " 7   Number of trains delayed at departure                                          7586 non-null   float64       \n",
      " 8   Average delay of late trains at departure                                      7605 non-null   float64       \n",
      " 9   Average delay of all trains at departure                                       7592 non-null   float64       \n",
      " 10  Number of trains delayed at arrival                                            7583 non-null   float64       \n",
      " 11  Average delay of late trains at arrival                                        7596 non-null   float64       \n",
      " 12  Average delay of all trains at arrival                                         7611 non-null   float64       \n",
      " 13  Number of trains delayed > 15min                                               7585 non-null   float64       \n",
      " 14  Average delay of trains > 15min (if competing with flights)                    7591 non-null   float64       \n",
      " 15  Number of trains delayed > 30min                                               7579 non-null   float64       \n",
      " 16  Number of trains delayed > 60min                                               7562 non-null   float64       \n",
      " 17  Pct delay due to external causes                                               7605 non-null   float64       \n",
      " 18  Pct delay due to infrastructure                                                7578 non-null   float64       \n",
      " 19  Pct delay due to traffic management                                            7578 non-null   float64       \n",
      " 20  Pct delay due to rolling stock                                                 7588 non-null   float64       \n",
      " 21  Pct delay due to station management and equipment reuse                        7569 non-null   float64       \n",
      " 22  Pct delay due to passenger handling (crowding, disabled persons, connections)  7576 non-null   float64       \n",
      "dtypes: Float64(1), datetime64[ns](1), float64(18), string(3)\n",
      "memory usage: 1.5 MB\n"
     ]
    }
   ],
   "source": [
    "csv = csv.dropna(subset=\"Average journey time\")\n",
    "csv[\"Average journey time\"] = csv[\"Average journey time\"].convert_dtypes()\n",
    "csv.info()"
   ]
  },
  {
   "cell_type": "markdown",
   "metadata": {},
   "source": [
    "Clean Number of scheduled trains"
   ]
  },
  {
   "cell_type": "code",
   "execution_count": 57,
   "metadata": {},
   "outputs": [
    {
     "name": "stdout",
     "output_type": "stream",
     "text": [
      "<class 'pandas.core.frame.DataFrame'>\n",
      "Index: 7559 entries, 1 to 10839\n",
      "Data columns (total 23 columns):\n",
      " #   Column                                                                         Non-Null Count  Dtype         \n",
      "---  ------                                                                         --------------  -----         \n",
      " 0   Date                                                                           7559 non-null   datetime64[ns]\n",
      " 1   Service                                                                        7168 non-null   string        \n",
      " 2   Departure station                                                              7559 non-null   string        \n",
      " 3   Arrival station                                                                7559 non-null   string        \n",
      " 4   Average journey time                                                           7559 non-null   Float64       \n",
      " 5   Number of scheduled trains                                                     7559 non-null   Float64       \n",
      " 6   Number of cancelled trains                                                     6982 non-null   float64       \n",
      " 7   Number of trains delayed at departure                                          6987 non-null   float64       \n",
      " 8   Average delay of late trains at departure                                      7016 non-null   float64       \n",
      " 9   Average delay of all trains at departure                                       6983 non-null   float64       \n",
      " 10  Number of trains delayed at arrival                                            6982 non-null   float64       \n",
      " 11  Average delay of late trains at arrival                                        6991 non-null   float64       \n",
      " 12  Average delay of all trains at arrival                                         7003 non-null   float64       \n",
      " 13  Number of trains delayed > 15min                                               6978 non-null   float64       \n",
      " 14  Average delay of trains > 15min (if competing with flights)                    6987 non-null   float64       \n",
      " 15  Number of trains delayed > 30min                                               6969 non-null   float64       \n",
      " 16  Number of trains delayed > 60min                                               6965 non-null   float64       \n",
      " 17  Pct delay due to external causes                                               7002 non-null   float64       \n",
      " 18  Pct delay due to infrastructure                                                6971 non-null   float64       \n",
      " 19  Pct delay due to traffic management                                            6972 non-null   float64       \n",
      " 20  Pct delay due to rolling stock                                                 6990 non-null   float64       \n",
      " 21  Pct delay due to station management and equipment reuse                        6964 non-null   float64       \n",
      " 22  Pct delay due to passenger handling (crowding, disabled persons, connections)  6971 non-null   float64       \n",
      "dtypes: Float64(2), datetime64[ns](1), float64(17), string(3)\n",
      "memory usage: 1.4 MB\n"
     ]
    }
   ],
   "source": [
    "csv = csv.dropna(subset=\"Number of scheduled trains\")\n",
    "csv[\"Number of scheduled trains\"] = csv[\"Number of scheduled trains\"].convert_dtypes()\n",
    "csv.info()"
   ]
  },
  {
   "cell_type": "markdown",
   "metadata": {},
   "source": [
    "Clean Number of cancelled trains"
   ]
  },
  {
   "cell_type": "code",
   "execution_count": 58,
   "metadata": {},
   "outputs": [
    {
     "name": "stdout",
     "output_type": "stream",
     "text": [
      "<class 'pandas.core.frame.DataFrame'>\n",
      "Index: 6982 entries, 2 to 10839\n",
      "Data columns (total 23 columns):\n",
      " #   Column                                                                         Non-Null Count  Dtype         \n",
      "---  ------                                                                         --------------  -----         \n",
      " 0   Date                                                                           6982 non-null   datetime64[ns]\n",
      " 1   Service                                                                        6624 non-null   string        \n",
      " 2   Departure station                                                              6982 non-null   string        \n",
      " 3   Arrival station                                                                6982 non-null   string        \n",
      " 4   Average journey time                                                           6982 non-null   Float64       \n",
      " 5   Number of scheduled trains                                                     6982 non-null   Float64       \n",
      " 6   Number of cancelled trains                                                     6982 non-null   Float64       \n",
      " 7   Number of trains delayed at departure                                          6454 non-null   float64       \n",
      " 8   Average delay of late trains at departure                                      6468 non-null   float64       \n",
      " 9   Average delay of all trains at departure                                       6449 non-null   float64       \n",
      " 10  Number of trains delayed at arrival                                            6447 non-null   float64       \n",
      " 11  Average delay of late trains at arrival                                        6451 non-null   float64       \n",
      " 12  Average delay of all trains at arrival                                         6456 non-null   float64       \n",
      " 13  Number of trains delayed > 15min                                               6445 non-null   float64       \n",
      " 14  Average delay of trains > 15min (if competing with flights)                    6449 non-null   float64       \n",
      " 15  Number of trains delayed > 30min                                               6439 non-null   float64       \n",
      " 16  Number of trains delayed > 60min                                               6434 non-null   float64       \n",
      " 17  Pct delay due to external causes                                               6473 non-null   float64       \n",
      " 18  Pct delay due to infrastructure                                                6439 non-null   float64       \n",
      " 19  Pct delay due to traffic management                                            6445 non-null   float64       \n",
      " 20  Pct delay due to rolling stock                                                 6458 non-null   float64       \n",
      " 21  Pct delay due to station management and equipment reuse                        6437 non-null   float64       \n",
      " 22  Pct delay due to passenger handling (crowding, disabled persons, connections)  6453 non-null   float64       \n",
      "dtypes: Float64(3), datetime64[ns](1), float64(16), string(3)\n",
      "memory usage: 1.3 MB\n"
     ]
    }
   ],
   "source": [
    "csv = csv.dropna(subset=\"Number of cancelled trains\")\n",
    "csv[\"Number of cancelled trains\"] = csv[\"Number of cancelled trains\"].convert_dtypes()\n",
    "csv.info()"
   ]
  },
  {
   "cell_type": "markdown",
   "metadata": {},
   "source": [
    "Clean Number of trains delayed at departure"
   ]
  },
  {
   "cell_type": "code",
   "execution_count": 59,
   "metadata": {},
   "outputs": [
    {
     "name": "stdout",
     "output_type": "stream",
     "text": [
      "<class 'pandas.core.frame.DataFrame'>\n",
      "Index: 6454 entries, 2 to 10839\n",
      "Data columns (total 23 columns):\n",
      " #   Column                                                                         Non-Null Count  Dtype         \n",
      "---  ------                                                                         --------------  -----         \n",
      " 0   Date                                                                           6454 non-null   datetime64[ns]\n",
      " 1   Service                                                                        6120 non-null   string        \n",
      " 2   Departure station                                                              6454 non-null   string        \n",
      " 3   Arrival station                                                                6454 non-null   string        \n",
      " 4   Average journey time                                                           6454 non-null   Float64       \n",
      " 5   Number of scheduled trains                                                     6454 non-null   Float64       \n",
      " 6   Number of cancelled trains                                                     6454 non-null   Float64       \n",
      " 7   Number of trains delayed at departure                                          6454 non-null   Float64       \n",
      " 8   Average delay of late trains at departure                                      5979 non-null   float64       \n",
      " 9   Average delay of all trains at departure                                       5961 non-null   float64       \n",
      " 10  Number of trains delayed at arrival                                            5965 non-null   float64       \n",
      " 11  Average delay of late trains at arrival                                        5961 non-null   float64       \n",
      " 12  Average delay of all trains at arrival                                         5969 non-null   float64       \n",
      " 13  Number of trains delayed > 15min                                               5950 non-null   float64       \n",
      " 14  Average delay of trains > 15min (if competing with flights)                    5947 non-null   float64       \n",
      " 15  Number of trains delayed > 30min                                               5953 non-null   float64       \n",
      " 16  Number of trains delayed > 60min                                               5950 non-null   float64       \n",
      " 17  Pct delay due to external causes                                               5995 non-null   float64       \n",
      " 18  Pct delay due to infrastructure                                                5952 non-null   float64       \n",
      " 19  Pct delay due to traffic management                                            5957 non-null   float64       \n",
      " 20  Pct delay due to rolling stock                                                 5958 non-null   float64       \n",
      " 21  Pct delay due to station management and equipment reuse                        5945 non-null   float64       \n",
      " 22  Pct delay due to passenger handling (crowding, disabled persons, connections)  5962 non-null   float64       \n",
      "dtypes: Float64(4), datetime64[ns](1), float64(15), string(3)\n",
      "memory usage: 1.2 MB\n"
     ]
    }
   ],
   "source": [
    "csv = csv.dropna(subset=\"Number of trains delayed at departure\")\n",
    "csv[\"Number of trains delayed at departure\"] = csv[\"Number of trains delayed at departure\"].convert_dtypes()\n",
    "csv.info()"
   ]
  },
  {
   "cell_type": "markdown",
   "metadata": {},
   "source": [
    "Clean Average delay of late trains at departure"
   ]
  },
  {
   "cell_type": "code",
   "execution_count": 60,
   "metadata": {},
   "outputs": [
    {
     "name": "stdout",
     "output_type": "stream",
     "text": [
      "<class 'pandas.core.frame.DataFrame'>\n",
      "Index: 5979 entries, 2 to 10839\n",
      "Data columns (total 23 columns):\n",
      " #   Column                                                                         Non-Null Count  Dtype         \n",
      "---  ------                                                                         --------------  -----         \n",
      " 0   Date                                                                           5979 non-null   datetime64[ns]\n",
      " 1   Service                                                                        5669 non-null   string        \n",
      " 2   Departure station                                                              5979 non-null   string        \n",
      " 3   Arrival station                                                                5979 non-null   string        \n",
      " 4   Average journey time                                                           5979 non-null   Float64       \n",
      " 5   Number of scheduled trains                                                     5979 non-null   Float64       \n",
      " 6   Number of cancelled trains                                                     5979 non-null   Float64       \n",
      " 7   Number of trains delayed at departure                                          5979 non-null   Float64       \n",
      " 8   Average delay of late trains at departure                                      5979 non-null   Float64       \n",
      " 9   Average delay of all trains at departure                                       5517 non-null   float64       \n",
      " 10  Number of trains delayed at arrival                                            5527 non-null   float64       \n",
      " 11  Average delay of late trains at arrival                                        5529 non-null   float64       \n",
      " 12  Average delay of all trains at arrival                                         5519 non-null   float64       \n",
      " 13  Number of trains delayed > 15min                                               5513 non-null   float64       \n",
      " 14  Average delay of trains > 15min (if competing with flights)                    5513 non-null   float64       \n",
      " 15  Number of trains delayed > 30min                                               5511 non-null   float64       \n",
      " 16  Number of trains delayed > 60min                                               5519 non-null   float64       \n",
      " 17  Pct delay due to external causes                                               5551 non-null   float64       \n",
      " 18  Pct delay due to infrastructure                                                5518 non-null   float64       \n",
      " 19  Pct delay due to traffic management                                            5516 non-null   float64       \n",
      " 20  Pct delay due to rolling stock                                                 5524 non-null   float64       \n",
      " 21  Pct delay due to station management and equipment reuse                        5515 non-null   float64       \n",
      " 22  Pct delay due to passenger handling (crowding, disabled persons, connections)  5522 non-null   float64       \n",
      "dtypes: Float64(5), datetime64[ns](1), float64(14), string(3)\n",
      "memory usage: 1.1 MB\n"
     ]
    }
   ],
   "source": [
    "csv = csv.dropna(subset=\"Average delay of late trains at departure\")\n",
    "csv[\"Average delay of late trains at departure\"] = csv[\"Average delay of late trains at departure\"].convert_dtypes()\n",
    "csv.info()"
   ]
  },
  {
   "cell_type": "markdown",
   "metadata": {},
   "source": [
    "Clean Average delay of all trains at departure"
   ]
  },
  {
   "cell_type": "code",
   "execution_count": 61,
   "metadata": {},
   "outputs": [
    {
     "name": "stdout",
     "output_type": "stream",
     "text": [
      "<class 'pandas.core.frame.DataFrame'>\n",
      "Index: 5517 entries, 9 to 10839\n",
      "Data columns (total 23 columns):\n",
      " #   Column                                                                         Non-Null Count  Dtype         \n",
      "---  ------                                                                         --------------  -----         \n",
      " 0   Date                                                                           5517 non-null   datetime64[ns]\n",
      " 1   Service                                                                        5228 non-null   string        \n",
      " 2   Departure station                                                              5517 non-null   string        \n",
      " 3   Arrival station                                                                5517 non-null   string        \n",
      " 4   Average journey time                                                           5517 non-null   Float64       \n",
      " 5   Number of scheduled trains                                                     5517 non-null   Float64       \n",
      " 6   Number of cancelled trains                                                     5517 non-null   Float64       \n",
      " 7   Number of trains delayed at departure                                          5517 non-null   Float64       \n",
      " 8   Average delay of late trains at departure                                      5517 non-null   Float64       \n",
      " 9   Average delay of all trains at departure                                       5517 non-null   Float64       \n",
      " 10  Number of trains delayed at arrival                                            5100 non-null   float64       \n",
      " 11  Average delay of late trains at arrival                                        5106 non-null   float64       \n",
      " 12  Average delay of all trains at arrival                                         5087 non-null   float64       \n",
      " 13  Number of trains delayed > 15min                                               5080 non-null   float64       \n",
      " 14  Average delay of trains > 15min (if competing with flights)                    5092 non-null   float64       \n",
      " 15  Number of trains delayed > 30min                                               5090 non-null   float64       \n",
      " 16  Number of trains delayed > 60min                                               5096 non-null   float64       \n",
      " 17  Pct delay due to external causes                                               5129 non-null   float64       \n",
      " 18  Pct delay due to infrastructure                                                5091 non-null   float64       \n",
      " 19  Pct delay due to traffic management                                            5085 non-null   float64       \n",
      " 20  Pct delay due to rolling stock                                                 5094 non-null   float64       \n",
      " 21  Pct delay due to station management and equipment reuse                        5092 non-null   float64       \n",
      " 22  Pct delay due to passenger handling (crowding, disabled persons, connections)  5102 non-null   float64       \n",
      "dtypes: Float64(6), datetime64[ns](1), float64(13), string(3)\n",
      "memory usage: 1.0 MB\n"
     ]
    }
   ],
   "source": [
    "csv = csv.dropna(subset=\"Average delay of all trains at departure\")\n",
    "csv[\"Average delay of all trains at departure\"] = csv[\"Average delay of all trains at departure\"].convert_dtypes()\n",
    "csv.info()"
   ]
  },
  {
   "cell_type": "markdown",
   "metadata": {},
   "source": [
    "Clean Number of trains delayed at arrival"
   ]
  },
  {
   "cell_type": "code",
   "execution_count": 62,
   "metadata": {},
   "outputs": [
    {
     "name": "stdout",
     "output_type": "stream",
     "text": [
      "<class 'pandas.core.frame.DataFrame'>\n",
      "Index: 5100 entries, 9 to 10837\n",
      "Data columns (total 23 columns):\n",
      " #   Column                                                                         Non-Null Count  Dtype         \n",
      "---  ------                                                                         --------------  -----         \n",
      " 0   Date                                                                           5100 non-null   datetime64[ns]\n",
      " 1   Service                                                                        4827 non-null   string        \n",
      " 2   Departure station                                                              5100 non-null   string        \n",
      " 3   Arrival station                                                                5100 non-null   string        \n",
      " 4   Average journey time                                                           5100 non-null   Float64       \n",
      " 5   Number of scheduled trains                                                     5100 non-null   Float64       \n",
      " 6   Number of cancelled trains                                                     5100 non-null   Float64       \n",
      " 7   Number of trains delayed at departure                                          5100 non-null   Float64       \n",
      " 8   Average delay of late trains at departure                                      5100 non-null   Float64       \n",
      " 9   Average delay of all trains at departure                                       5100 non-null   Float64       \n",
      " 10  Number of trains delayed at arrival                                            5100 non-null   Float64       \n",
      " 11  Average delay of late trains at arrival                                        4714 non-null   float64       \n",
      " 12  Average delay of all trains at arrival                                         4700 non-null   float64       \n",
      " 13  Number of trains delayed > 15min                                               4700 non-null   float64       \n",
      " 14  Average delay of trains > 15min (if competing with flights)                    4701 non-null   float64       \n",
      " 15  Number of trains delayed > 30min                                               4706 non-null   float64       \n",
      " 16  Number of trains delayed > 60min                                               4711 non-null   float64       \n",
      " 17  Pct delay due to external causes                                               4744 non-null   float64       \n",
      " 18  Pct delay due to infrastructure                                                4711 non-null   float64       \n",
      " 19  Pct delay due to traffic management                                            4713 non-null   float64       \n",
      " 20  Pct delay due to rolling stock                                                 4714 non-null   float64       \n",
      " 21  Pct delay due to station management and equipment reuse                        4707 non-null   float64       \n",
      " 22  Pct delay due to passenger handling (crowding, disabled persons, connections)  4722 non-null   float64       \n",
      "dtypes: Float64(7), datetime64[ns](1), float64(12), string(3)\n",
      "memory usage: 991.1 KB\n"
     ]
    }
   ],
   "source": [
    "csv = csv.dropna(subset=\"Number of trains delayed at arrival\")\n",
    "csv[\"Number of trains delayed at arrival\"] = csv[\"Number of trains delayed at arrival\"].convert_dtypes()\n",
    "csv.info()"
   ]
  },
  {
   "cell_type": "markdown",
   "metadata": {},
   "source": [
    "Clean Average delay of late trains at arrival"
   ]
  },
  {
   "cell_type": "code",
   "execution_count": 63,
   "metadata": {},
   "outputs": [
    {
     "name": "stdout",
     "output_type": "stream",
     "text": [
      "<class 'pandas.core.frame.DataFrame'>\n",
      "Index: 4714 entries, 9 to 10837\n",
      "Data columns (total 23 columns):\n",
      " #   Column                                                                         Non-Null Count  Dtype         \n",
      "---  ------                                                                         --------------  -----         \n",
      " 0   Date                                                                           4714 non-null   datetime64[ns]\n",
      " 1   Service                                                                        4460 non-null   string        \n",
      " 2   Departure station                                                              4714 non-null   string        \n",
      " 3   Arrival station                                                                4714 non-null   string        \n",
      " 4   Average journey time                                                           4714 non-null   Float64       \n",
      " 5   Number of scheduled trains                                                     4714 non-null   Float64       \n",
      " 6   Number of cancelled trains                                                     4714 non-null   Float64       \n",
      " 7   Number of trains delayed at departure                                          4714 non-null   Float64       \n",
      " 8   Average delay of late trains at departure                                      4714 non-null   Float64       \n",
      " 9   Average delay of all trains at departure                                       4714 non-null   Float64       \n",
      " 10  Number of trains delayed at arrival                                            4714 non-null   Float64       \n",
      " 11  Average delay of late trains at arrival                                        4714 non-null   Float64       \n",
      " 12  Average delay of all trains at arrival                                         4342 non-null   float64       \n",
      " 13  Number of trains delayed > 15min                                               4355 non-null   float64       \n",
      " 14  Average delay of trains > 15min (if competing with flights)                    4343 non-null   float64       \n",
      " 15  Number of trains delayed > 30min                                               4348 non-null   float64       \n",
      " 16  Number of trains delayed > 60min                                               4355 non-null   float64       \n",
      " 17  Pct delay due to external causes                                               4390 non-null   float64       \n",
      " 18  Pct delay due to infrastructure                                                4359 non-null   float64       \n",
      " 19  Pct delay due to traffic management                                            4359 non-null   float64       \n",
      " 20  Pct delay due to rolling stock                                                 4359 non-null   float64       \n",
      " 21  Pct delay due to station management and equipment reuse                        4346 non-null   float64       \n",
      " 22  Pct delay due to passenger handling (crowding, disabled persons, connections)  4366 non-null   float64       \n",
      "dtypes: Float64(8), datetime64[ns](1), float64(11), string(3)\n",
      "memory usage: 920.7 KB\n"
     ]
    }
   ],
   "source": [
    "csv = csv.dropna(subset=\"Average delay of late trains at arrival\")\n",
    "csv[\"Average delay of late trains at arrival\"] = csv[\"Average delay of late trains at arrival\"].convert_dtypes()\n",
    "csv.info()"
   ]
  },
  {
   "cell_type": "markdown",
   "metadata": {},
   "source": [
    "Clean Average delay of all trains at arrival"
   ]
  },
  {
   "cell_type": "code",
   "execution_count": 64,
   "metadata": {},
   "outputs": [
    {
     "name": "stdout",
     "output_type": "stream",
     "text": [
      "<class 'pandas.core.frame.DataFrame'>\n",
      "Index: 4342 entries, 9 to 10837\n",
      "Data columns (total 23 columns):\n",
      " #   Column                                                                         Non-Null Count  Dtype         \n",
      "---  ------                                                                         --------------  -----         \n",
      " 0   Date                                                                           4342 non-null   datetime64[ns]\n",
      " 1   Service                                                                        4104 non-null   string        \n",
      " 2   Departure station                                                              4342 non-null   string        \n",
      " 3   Arrival station                                                                4342 non-null   string        \n",
      " 4   Average journey time                                                           4342 non-null   Float64       \n",
      " 5   Number of scheduled trains                                                     4342 non-null   Float64       \n",
      " 6   Number of cancelled trains                                                     4342 non-null   Float64       \n",
      " 7   Number of trains delayed at departure                                          4342 non-null   Float64       \n",
      " 8   Average delay of late trains at departure                                      4342 non-null   Float64       \n",
      " 9   Average delay of all trains at departure                                       4342 non-null   Float64       \n",
      " 10  Number of trains delayed at arrival                                            4342 non-null   Float64       \n",
      " 11  Average delay of late trains at arrival                                        4342 non-null   Float64       \n",
      " 12  Average delay of all trains at arrival                                         4342 non-null   Float64       \n",
      " 13  Number of trains delayed > 15min                                               4007 non-null   float64       \n",
      " 14  Average delay of trains > 15min (if competing with flights)                    4004 non-null   float64       \n",
      " 15  Number of trains delayed > 30min                                               4004 non-null   float64       \n",
      " 16  Number of trains delayed > 60min                                               4005 non-null   float64       \n",
      " 17  Pct delay due to external causes                                               4037 non-null   float64       \n",
      " 18  Pct delay due to infrastructure                                                4012 non-null   float64       \n",
      " 19  Pct delay due to traffic management                                            4019 non-null   float64       \n",
      " 20  Pct delay due to rolling stock                                                 4015 non-null   float64       \n",
      " 21  Pct delay due to station management and equipment reuse                        4013 non-null   float64       \n",
      " 22  Pct delay due to passenger handling (crowding, disabled persons, connections)  4018 non-null   float64       \n",
      "dtypes: Float64(9), datetime64[ns](1), float64(10), string(3)\n",
      "memory usage: 852.3 KB\n"
     ]
    }
   ],
   "source": [
    "csv = csv.dropna(subset=\"Average delay of all trains at arrival\")\n",
    "csv[\"Average delay of all trains at arrival\"] = csv[\"Average delay of all trains at arrival\"].convert_dtypes()\n",
    "csv.info()"
   ]
  },
  {
   "cell_type": "markdown",
   "metadata": {},
   "source": [
    "Clean Number of trains delayed > 15 min"
   ]
  },
  {
   "cell_type": "code",
   "execution_count": 65,
   "metadata": {},
   "outputs": [
    {
     "name": "stdout",
     "output_type": "stream",
     "text": [
      "<class 'pandas.core.frame.DataFrame'>\n",
      "Index: 4007 entries, 13 to 10837\n",
      "Data columns (total 23 columns):\n",
      " #   Column                                                                         Non-Null Count  Dtype         \n",
      "---  ------                                                                         --------------  -----         \n",
      " 0   Date                                                                           4007 non-null   datetime64[ns]\n",
      " 1   Service                                                                        3780 non-null   string        \n",
      " 2   Departure station                                                              4007 non-null   string        \n",
      " 3   Arrival station                                                                4007 non-null   string        \n",
      " 4   Average journey time                                                           4007 non-null   Float64       \n",
      " 5   Number of scheduled trains                                                     4007 non-null   Float64       \n",
      " 6   Number of cancelled trains                                                     4007 non-null   Float64       \n",
      " 7   Number of trains delayed at departure                                          4007 non-null   Float64       \n",
      " 8   Average delay of late trains at departure                                      4007 non-null   Float64       \n",
      " 9   Average delay of all trains at departure                                       4007 non-null   Float64       \n",
      " 10  Number of trains delayed at arrival                                            4007 non-null   Float64       \n",
      " 11  Average delay of late trains at arrival                                        4007 non-null   Float64       \n",
      " 12  Average delay of all trains at arrival                                         4007 non-null   Float64       \n",
      " 13  Number of trains delayed > 15min                                               4007 non-null   Float64       \n",
      " 14  Average delay of trains > 15min (if competing with flights)                    3697 non-null   float64       \n",
      " 15  Number of trains delayed > 30min                                               3700 non-null   float64       \n",
      " 16  Number of trains delayed > 60min                                               3692 non-null   float64       \n",
      " 17  Pct delay due to external causes                                               3727 non-null   float64       \n",
      " 18  Pct delay due to infrastructure                                                3699 non-null   float64       \n",
      " 19  Pct delay due to traffic management                                            3710 non-null   float64       \n",
      " 20  Pct delay due to rolling stock                                                 3704 non-null   float64       \n",
      " 21  Pct delay due to station management and equipment reuse                        3703 non-null   float64       \n",
      " 22  Pct delay due to passenger handling (crowding, disabled persons, connections)  3718 non-null   float64       \n",
      "dtypes: Float64(10), datetime64[ns](1), float64(9), string(3)\n",
      "memory usage: 790.4 KB\n"
     ]
    }
   ],
   "source": [
    "csv = csv.dropna(subset=\"Number of trains delayed > 15min\")\n",
    "csv[\"Number of trains delayed > 15min\"] = csv[\"Number of trains delayed > 15min\"].convert_dtypes()\n",
    "csv.info()"
   ]
  },
  {
   "cell_type": "markdown",
   "metadata": {},
   "source": [
    "Clean Average delay of trains > 15min (if competing with flights)"
   ]
  },
  {
   "cell_type": "code",
   "execution_count": 66,
   "metadata": {},
   "outputs": [
    {
     "name": "stdout",
     "output_type": "stream",
     "text": [
      "<class 'pandas.core.frame.DataFrame'>\n",
      "Index: 3697 entries, 13 to 10837\n",
      "Data columns (total 23 columns):\n",
      " #   Column                                                                         Non-Null Count  Dtype         \n",
      "---  ------                                                                         --------------  -----         \n",
      " 0   Date                                                                           3697 non-null   datetime64[ns]\n",
      " 1   Service                                                                        3485 non-null   string        \n",
      " 2   Departure station                                                              3697 non-null   string        \n",
      " 3   Arrival station                                                                3697 non-null   string        \n",
      " 4   Average journey time                                                           3697 non-null   Float64       \n",
      " 5   Number of scheduled trains                                                     3697 non-null   Float64       \n",
      " 6   Number of cancelled trains                                                     3697 non-null   Float64       \n",
      " 7   Number of trains delayed at departure                                          3697 non-null   Float64       \n",
      " 8   Average delay of late trains at departure                                      3697 non-null   Float64       \n",
      " 9   Average delay of all trains at departure                                       3697 non-null   Float64       \n",
      " 10  Number of trains delayed at arrival                                            3697 non-null   Float64       \n",
      " 11  Average delay of late trains at arrival                                        3697 non-null   Float64       \n",
      " 12  Average delay of all trains at arrival                                         3697 non-null   Float64       \n",
      " 13  Number of trains delayed > 15min                                               3697 non-null   Float64       \n",
      " 14  Average delay of trains > 15min (if competing with flights)                    3697 non-null   Float64       \n",
      " 15  Number of trains delayed > 30min                                               3410 non-null   float64       \n",
      " 16  Number of trains delayed > 60min                                               3399 non-null   float64       \n",
      " 17  Pct delay due to external causes                                               3438 non-null   float64       \n",
      " 18  Pct delay due to infrastructure                                                3415 non-null   float64       \n",
      " 19  Pct delay due to traffic management                                            3422 non-null   float64       \n",
      " 20  Pct delay due to rolling stock                                                 3421 non-null   float64       \n",
      " 21  Pct delay due to station management and equipment reuse                        3415 non-null   float64       \n",
      " 22  Pct delay due to passenger handling (crowding, disabled persons, connections)  3435 non-null   float64       \n",
      "dtypes: Float64(11), datetime64[ns](1), float64(8), string(3)\n",
      "memory usage: 732.9 KB\n"
     ]
    }
   ],
   "source": [
    "csv = csv.dropna(subset=\"Average delay of trains > 15min (if competing with flights)\")\n",
    "csv[\"Average delay of trains > 15min (if competing with flights)\"] = csv[\"Average delay of trains > 15min (if competing with flights)\"].convert_dtypes()\n",
    "csv.info()"
   ]
  },
  {
   "cell_type": "markdown",
   "metadata": {},
   "source": [
    "Clean Number of trains delayed > 30min"
   ]
  },
  {
   "cell_type": "code",
   "execution_count": 67,
   "metadata": {},
   "outputs": [
    {
     "name": "stdout",
     "output_type": "stream",
     "text": [
      "<class 'pandas.core.frame.DataFrame'>\n",
      "Index: 3410 entries, 13 to 10837\n",
      "Data columns (total 23 columns):\n",
      " #   Column                                                                         Non-Null Count  Dtype         \n",
      "---  ------                                                                         --------------  -----         \n",
      " 0   Date                                                                           3410 non-null   datetime64[ns]\n",
      " 1   Service                                                                        3213 non-null   string        \n",
      " 2   Departure station                                                              3410 non-null   string        \n",
      " 3   Arrival station                                                                3410 non-null   string        \n",
      " 4   Average journey time                                                           3410 non-null   Float64       \n",
      " 5   Number of scheduled trains                                                     3410 non-null   Float64       \n",
      " 6   Number of cancelled trains                                                     3410 non-null   Float64       \n",
      " 7   Number of trains delayed at departure                                          3410 non-null   Float64       \n",
      " 8   Average delay of late trains at departure                                      3410 non-null   Float64       \n",
      " 9   Average delay of all trains at departure                                       3410 non-null   Float64       \n",
      " 10  Number of trains delayed at arrival                                            3410 non-null   Float64       \n",
      " 11  Average delay of late trains at arrival                                        3410 non-null   Float64       \n",
      " 12  Average delay of all trains at arrival                                         3410 non-null   Float64       \n",
      " 13  Number of trains delayed > 15min                                               3410 non-null   Float64       \n",
      " 14  Average delay of trains > 15min (if competing with flights)                    3410 non-null   Float64       \n",
      " 15  Number of trains delayed > 30min                                               3410 non-null   Float64       \n",
      " 16  Number of trains delayed > 60min                                               3137 non-null   float64       \n",
      " 17  Pct delay due to external causes                                               3176 non-null   float64       \n",
      " 18  Pct delay due to infrastructure                                                3154 non-null   float64       \n",
      " 19  Pct delay due to traffic management                                            3150 non-null   float64       \n",
      " 20  Pct delay due to rolling stock                                                 3152 non-null   float64       \n",
      " 21  Pct delay due to station management and equipment reuse                        3143 non-null   float64       \n",
      " 22  Pct delay due to passenger handling (crowding, disabled persons, connections)  3162 non-null   float64       \n",
      "dtypes: Float64(12), datetime64[ns](1), float64(7), string(3)\n",
      "memory usage: 679.3 KB\n"
     ]
    }
   ],
   "source": [
    "csv = csv.dropna(subset=\"Number of trains delayed > 30min\")\n",
    "csv[\"Number of trains delayed > 30min\"] = csv[\"Number of trains delayed > 30min\"].convert_dtypes()\n",
    "csv.info()"
   ]
  },
  {
   "cell_type": "markdown",
   "metadata": {},
   "source": [
    "Clean Number of trains delayed > 60min"
   ]
  },
  {
   "cell_type": "code",
   "execution_count": 68,
   "metadata": {},
   "outputs": [
    {
     "name": "stdout",
     "output_type": "stream",
     "text": [
      "<class 'pandas.core.frame.DataFrame'>\n",
      "Index: 3137 entries, 13 to 10837\n",
      "Data columns (total 23 columns):\n",
      " #   Column                                                                         Non-Null Count  Dtype         \n",
      "---  ------                                                                         --------------  -----         \n",
      " 0   Date                                                                           3137 non-null   datetime64[ns]\n",
      " 1   Service                                                                        2952 non-null   string        \n",
      " 2   Departure station                                                              3137 non-null   string        \n",
      " 3   Arrival station                                                                3137 non-null   string        \n",
      " 4   Average journey time                                                           3137 non-null   Float64       \n",
      " 5   Number of scheduled trains                                                     3137 non-null   Float64       \n",
      " 6   Number of cancelled trains                                                     3137 non-null   Float64       \n",
      " 7   Number of trains delayed at departure                                          3137 non-null   Float64       \n",
      " 8   Average delay of late trains at departure                                      3137 non-null   Float64       \n",
      " 9   Average delay of all trains at departure                                       3137 non-null   Float64       \n",
      " 10  Number of trains delayed at arrival                                            3137 non-null   Float64       \n",
      " 11  Average delay of late trains at arrival                                        3137 non-null   Float64       \n",
      " 12  Average delay of all trains at arrival                                         3137 non-null   Float64       \n",
      " 13  Number of trains delayed > 15min                                               3137 non-null   Float64       \n",
      " 14  Average delay of trains > 15min (if competing with flights)                    3137 non-null   Float64       \n",
      " 15  Number of trains delayed > 30min                                               3137 non-null   Float64       \n",
      " 16  Number of trains delayed > 60min                                               3137 non-null   Float64       \n",
      " 17  Pct delay due to external causes                                               2919 non-null   float64       \n",
      " 18  Pct delay due to infrastructure                                                2897 non-null   float64       \n",
      " 19  Pct delay due to traffic management                                            2896 non-null   float64       \n",
      " 20  Pct delay due to rolling stock                                                 2899 non-null   float64       \n",
      " 21  Pct delay due to station management and equipment reuse                        2896 non-null   float64       \n",
      " 22  Pct delay due to passenger handling (crowding, disabled persons, connections)  2917 non-null   float64       \n",
      "dtypes: Float64(13), datetime64[ns](1), float64(6), string(3)\n",
      "memory usage: 628.0 KB\n"
     ]
    }
   ],
   "source": [
    "csv = csv.dropna(subset=\"Number of trains delayed > 60min\")\n",
    "csv[\"Number of trains delayed > 60min\"] = csv[\"Number of trains delayed > 60min\"].convert_dtypes()\n",
    "csv.info()"
   ]
  },
  {
   "cell_type": "markdown",
   "metadata": {},
   "source": [
    "Clean Pct delay due to external causes"
   ]
  },
  {
   "cell_type": "code",
   "execution_count": 69,
   "metadata": {},
   "outputs": [
    {
     "name": "stdout",
     "output_type": "stream",
     "text": [
      "<class 'pandas.core.frame.DataFrame'>\n",
      "Index: 2919 entries, 13 to 10837\n",
      "Data columns (total 23 columns):\n",
      " #   Column                                                                         Non-Null Count  Dtype         \n",
      "---  ------                                                                         --------------  -----         \n",
      " 0   Date                                                                           2919 non-null   datetime64[ns]\n",
      " 1   Service                                                                        2750 non-null   string        \n",
      " 2   Departure station                                                              2919 non-null   string        \n",
      " 3   Arrival station                                                                2919 non-null   string        \n",
      " 4   Average journey time                                                           2919 non-null   Float64       \n",
      " 5   Number of scheduled trains                                                     2919 non-null   Float64       \n",
      " 6   Number of cancelled trains                                                     2919 non-null   Float64       \n",
      " 7   Number of trains delayed at departure                                          2919 non-null   Float64       \n",
      " 8   Average delay of late trains at departure                                      2919 non-null   Float64       \n",
      " 9   Average delay of all trains at departure                                       2919 non-null   Float64       \n",
      " 10  Number of trains delayed at arrival                                            2919 non-null   Float64       \n",
      " 11  Average delay of late trains at arrival                                        2919 non-null   Float64       \n",
      " 12  Average delay of all trains at arrival                                         2919 non-null   Float64       \n",
      " 13  Number of trains delayed > 15min                                               2919 non-null   Float64       \n",
      " 14  Average delay of trains > 15min (if competing with flights)                    2919 non-null   Float64       \n",
      " 15  Number of trains delayed > 30min                                               2919 non-null   Float64       \n",
      " 16  Number of trains delayed > 60min                                               2919 non-null   Float64       \n",
      " 17  Pct delay due to external causes                                               2919 non-null   Float64       \n",
      " 18  Pct delay due to infrastructure                                                2698 non-null   float64       \n",
      " 19  Pct delay due to traffic management                                            2695 non-null   float64       \n",
      " 20  Pct delay due to rolling stock                                                 2697 non-null   float64       \n",
      " 21  Pct delay due to station management and equipment reuse                        2695 non-null   float64       \n",
      " 22  Pct delay due to passenger handling (crowding, disabled persons, connections)  2714 non-null   float64       \n",
      "dtypes: Float64(14), datetime64[ns](1), float64(5), string(3)\n",
      "memory usage: 587.2 KB\n"
     ]
    }
   ],
   "source": [
    "csv = csv.dropna(subset=\"Pct delay due to external causes\")\n",
    "csv[\"Pct delay due to external causes\"] = csv[\"Pct delay due to external causes\"].convert_dtypes()\n",
    "csv.info()"
   ]
  },
  {
   "cell_type": "markdown",
   "metadata": {},
   "source": [
    "Clean Pct delay due to infrastructure"
   ]
  },
  {
   "cell_type": "code",
   "execution_count": 70,
   "metadata": {},
   "outputs": [
    {
     "name": "stdout",
     "output_type": "stream",
     "text": [
      "<class 'pandas.core.frame.DataFrame'>\n",
      "Index: 2919 entries, 13 to 10837\n",
      "Data columns (total 23 columns):\n",
      " #   Column                                                                         Non-Null Count  Dtype         \n",
      "---  ------                                                                         --------------  -----         \n",
      " 0   Date                                                                           2919 non-null   datetime64[ns]\n",
      " 1   Service                                                                        2750 non-null   string        \n",
      " 2   Departure station                                                              2919 non-null   string        \n",
      " 3   Arrival station                                                                2919 non-null   string        \n",
      " 4   Average journey time                                                           2919 non-null   Float64       \n",
      " 5   Number of scheduled trains                                                     2919 non-null   Float64       \n",
      " 6   Number of cancelled trains                                                     2919 non-null   Float64       \n",
      " 7   Number of trains delayed at departure                                          2919 non-null   Float64       \n",
      " 8   Average delay of late trains at departure                                      2919 non-null   Float64       \n",
      " 9   Average delay of all trains at departure                                       2919 non-null   Float64       \n",
      " 10  Number of trains delayed at arrival                                            2919 non-null   Float64       \n",
      " 11  Average delay of late trains at arrival                                        2919 non-null   Float64       \n",
      " 12  Average delay of all trains at arrival                                         2919 non-null   Float64       \n",
      " 13  Number of trains delayed > 15min                                               2919 non-null   Float64       \n",
      " 14  Average delay of trains > 15min (if competing with flights)                    2919 non-null   Float64       \n",
      " 15  Number of trains delayed > 30min                                               2919 non-null   Float64       \n",
      " 16  Number of trains delayed > 60min                                               2919 non-null   Float64       \n",
      " 17  Pct delay due to external causes                                               2919 non-null   Float64       \n",
      " 18  Pct delay due to infrastructure                                                2698 non-null   Float64       \n",
      " 19  Pct delay due to traffic management                                            2695 non-null   float64       \n",
      " 20  Pct delay due to rolling stock                                                 2697 non-null   float64       \n",
      " 21  Pct delay due to station management and equipment reuse                        2695 non-null   float64       \n",
      " 22  Pct delay due to passenger handling (crowding, disabled persons, connections)  2714 non-null   float64       \n",
      "dtypes: Float64(15), datetime64[ns](1), float64(4), string(3)\n",
      "memory usage: 590.1 KB\n"
     ]
    }
   ],
   "source": [
    "csv.dropna(subset=\"Pct delay due to infrastructure\")\n",
    "csv[\"Pct delay due to infrastructure\"] = csv[\"Pct delay due to infrastructure\"].convert_dtypes()\n",
    "csv.info()"
   ]
  },
  {
   "cell_type": "markdown",
   "metadata": {},
   "source": [
    "CleanPct delay due to traffic management"
   ]
  },
  {
   "cell_type": "code",
   "execution_count": 71,
   "metadata": {},
   "outputs": [
    {
     "name": "stdout",
     "output_type": "stream",
     "text": [
      "<class 'pandas.core.frame.DataFrame'>\n",
      "Index: 2919 entries, 13 to 10837\n",
      "Data columns (total 23 columns):\n",
      " #   Column                                                                         Non-Null Count  Dtype         \n",
      "---  ------                                                                         --------------  -----         \n",
      " 0   Date                                                                           2919 non-null   datetime64[ns]\n",
      " 1   Service                                                                        2750 non-null   string        \n",
      " 2   Departure station                                                              2919 non-null   string        \n",
      " 3   Arrival station                                                                2919 non-null   string        \n",
      " 4   Average journey time                                                           2919 non-null   Float64       \n",
      " 5   Number of scheduled trains                                                     2919 non-null   Float64       \n",
      " 6   Number of cancelled trains                                                     2919 non-null   Float64       \n",
      " 7   Number of trains delayed at departure                                          2919 non-null   Float64       \n",
      " 8   Average delay of late trains at departure                                      2919 non-null   Float64       \n",
      " 9   Average delay of all trains at departure                                       2919 non-null   Float64       \n",
      " 10  Number of trains delayed at arrival                                            2919 non-null   Float64       \n",
      " 11  Average delay of late trains at arrival                                        2919 non-null   Float64       \n",
      " 12  Average delay of all trains at arrival                                         2919 non-null   Float64       \n",
      " 13  Number of trains delayed > 15min                                               2919 non-null   Float64       \n",
      " 14  Average delay of trains > 15min (if competing with flights)                    2919 non-null   Float64       \n",
      " 15  Number of trains delayed > 30min                                               2919 non-null   Float64       \n",
      " 16  Number of trains delayed > 60min                                               2919 non-null   Float64       \n",
      " 17  Pct delay due to external causes                                               2919 non-null   Float64       \n",
      " 18  Pct delay due to infrastructure                                                2698 non-null   Float64       \n",
      " 19  Pct delay due to traffic management                                            2695 non-null   Float64       \n",
      " 20  Pct delay due to rolling stock                                                 2697 non-null   float64       \n",
      " 21  Pct delay due to station management and equipment reuse                        2695 non-null   float64       \n",
      " 22  Pct delay due to passenger handling (crowding, disabled persons, connections)  2714 non-null   float64       \n",
      "dtypes: Float64(16), datetime64[ns](1), float64(3), string(3)\n",
      "memory usage: 592.9 KB\n"
     ]
    }
   ],
   "source": [
    "csv.dropna(subset=\"Pct delay due to traffic management\")\n",
    "csv[\"Pct delay due to traffic management\"] = csv[\"Pct delay due to traffic management\"].convert_dtypes()\n",
    "csv.info()"
   ]
  },
  {
   "cell_type": "markdown",
   "metadata": {},
   "source": [
    "Clean Pct delay due to rolling stock"
   ]
  },
  {
   "cell_type": "code",
   "execution_count": 72,
   "metadata": {},
   "outputs": [
    {
     "name": "stdout",
     "output_type": "stream",
     "text": [
      "<class 'pandas.core.frame.DataFrame'>\n",
      "Index: 2919 entries, 13 to 10837\n",
      "Data columns (total 23 columns):\n",
      " #   Column                                                                         Non-Null Count  Dtype         \n",
      "---  ------                                                                         --------------  -----         \n",
      " 0   Date                                                                           2919 non-null   datetime64[ns]\n",
      " 1   Service                                                                        2750 non-null   string        \n",
      " 2   Departure station                                                              2919 non-null   string        \n",
      " 3   Arrival station                                                                2919 non-null   string        \n",
      " 4   Average journey time                                                           2919 non-null   Float64       \n",
      " 5   Number of scheduled trains                                                     2919 non-null   Float64       \n",
      " 6   Number of cancelled trains                                                     2919 non-null   Float64       \n",
      " 7   Number of trains delayed at departure                                          2919 non-null   Float64       \n",
      " 8   Average delay of late trains at departure                                      2919 non-null   Float64       \n",
      " 9   Average delay of all trains at departure                                       2919 non-null   Float64       \n",
      " 10  Number of trains delayed at arrival                                            2919 non-null   Float64       \n",
      " 11  Average delay of late trains at arrival                                        2919 non-null   Float64       \n",
      " 12  Average delay of all trains at arrival                                         2919 non-null   Float64       \n",
      " 13  Number of trains delayed > 15min                                               2919 non-null   Float64       \n",
      " 14  Average delay of trains > 15min (if competing with flights)                    2919 non-null   Float64       \n",
      " 15  Number of trains delayed > 30min                                               2919 non-null   Float64       \n",
      " 16  Number of trains delayed > 60min                                               2919 non-null   Float64       \n",
      " 17  Pct delay due to external causes                                               2919 non-null   Float64       \n",
      " 18  Pct delay due to infrastructure                                                2698 non-null   Float64       \n",
      " 19  Pct delay due to traffic management                                            2695 non-null   Float64       \n",
      " 20  Pct delay due to rolling stock                                                 2697 non-null   Float64       \n",
      " 21  Pct delay due to station management and equipment reuse                        2695 non-null   float64       \n",
      " 22  Pct delay due to passenger handling (crowding, disabled persons, connections)  2714 non-null   float64       \n",
      "dtypes: Float64(17), datetime64[ns](1), float64(2), string(3)\n",
      "memory usage: 595.8 KB\n"
     ]
    }
   ],
   "source": [
    "csv.dropna(subset=\"Pct delay due to rolling stock\")\n",
    "csv[\"Pct delay due to rolling stock\"] = csv[\"Pct delay due to rolling stock\"].convert_dtypes()\n",
    "csv.info()"
   ]
  },
  {
   "cell_type": "markdown",
   "metadata": {},
   "source": [
    "Clean Pct delay due to station management and equipment reuse"
   ]
  },
  {
   "cell_type": "code",
   "execution_count": 73,
   "metadata": {},
   "outputs": [
    {
     "name": "stdout",
     "output_type": "stream",
     "text": [
      "<class 'pandas.core.frame.DataFrame'>\n",
      "Index: 2695 entries, 13 to 10837\n",
      "Data columns (total 23 columns):\n",
      " #   Column                                                                         Non-Null Count  Dtype         \n",
      "---  ------                                                                         --------------  -----         \n",
      " 0   Date                                                                           2695 non-null   datetime64[ns]\n",
      " 1   Service                                                                        2537 non-null   string        \n",
      " 2   Departure station                                                              2695 non-null   string        \n",
      " 3   Arrival station                                                                2695 non-null   string        \n",
      " 4   Average journey time                                                           2695 non-null   Float64       \n",
      " 5   Number of scheduled trains                                                     2695 non-null   Float64       \n",
      " 6   Number of cancelled trains                                                     2695 non-null   Float64       \n",
      " 7   Number of trains delayed at departure                                          2695 non-null   Float64       \n",
      " 8   Average delay of late trains at departure                                      2695 non-null   Float64       \n",
      " 9   Average delay of all trains at departure                                       2695 non-null   Float64       \n",
      " 10  Number of trains delayed at arrival                                            2695 non-null   Float64       \n",
      " 11  Average delay of late trains at arrival                                        2695 non-null   Float64       \n",
      " 12  Average delay of all trains at arrival                                         2695 non-null   Float64       \n",
      " 13  Number of trains delayed > 15min                                               2695 non-null   Float64       \n",
      " 14  Average delay of trains > 15min (if competing with flights)                    2695 non-null   Float64       \n",
      " 15  Number of trains delayed > 30min                                               2695 non-null   Float64       \n",
      " 16  Number of trains delayed > 60min                                               2695 non-null   Float64       \n",
      " 17  Pct delay due to external causes                                               2695 non-null   Float64       \n",
      " 18  Pct delay due to infrastructure                                                2489 non-null   Float64       \n",
      " 19  Pct delay due to traffic management                                            2489 non-null   Float64       \n",
      " 20  Pct delay due to rolling stock                                                 2491 non-null   Float64       \n",
      " 21  Pct delay due to station management and equipment reuse                        2695 non-null   Float64       \n",
      " 22  Pct delay due to passenger handling (crowding, disabled persons, connections)  2499 non-null   float64       \n",
      "dtypes: Float64(18), datetime64[ns](1), float64(1), string(3)\n",
      "memory usage: 552.7 KB\n"
     ]
    }
   ],
   "source": [
    "csv = csv.dropna(subset=\"Pct delay due to station management and equipment reuse\")\n",
    "csv[\"Pct delay due to station management and equipment reuse\"] = csv[\"Pct delay due to station management and equipment reuse\"].convert_dtypes()\n",
    "csv.info()"
   ]
  },
  {
   "cell_type": "markdown",
   "metadata": {},
   "source": [
    "Clean Pct delay due to passenger handling (crowding, disabled persons, connections)"
   ]
  },
  {
   "cell_type": "code",
   "execution_count": 74,
   "metadata": {},
   "outputs": [
    {
     "name": "stdout",
     "output_type": "stream",
     "text": [
      "<class 'pandas.core.frame.DataFrame'>\n",
      "Index: 2499 entries, 13 to 10837\n",
      "Data columns (total 23 columns):\n",
      " #   Column                                                                         Non-Null Count  Dtype         \n",
      "---  ------                                                                         --------------  -----         \n",
      " 0   Date                                                                           2499 non-null   datetime64[ns]\n",
      " 1   Service                                                                        2353 non-null   string        \n",
      " 2   Departure station                                                              2499 non-null   string        \n",
      " 3   Arrival station                                                                2499 non-null   string        \n",
      " 4   Average journey time                                                           2499 non-null   Float64       \n",
      " 5   Number of scheduled trains                                                     2499 non-null   Float64       \n",
      " 6   Number of cancelled trains                                                     2499 non-null   Float64       \n",
      " 7   Number of trains delayed at departure                                          2499 non-null   Float64       \n",
      " 8   Average delay of late trains at departure                                      2499 non-null   Float64       \n",
      " 9   Average delay of all trains at departure                                       2499 non-null   Float64       \n",
      " 10  Number of trains delayed at arrival                                            2499 non-null   Float64       \n",
      " 11  Average delay of late trains at arrival                                        2499 non-null   Float64       \n",
      " 12  Average delay of all trains at arrival                                         2499 non-null   Float64       \n",
      " 13  Number of trains delayed > 15min                                               2499 non-null   Float64       \n",
      " 14  Average delay of trains > 15min (if competing with flights)                    2499 non-null   Float64       \n",
      " 15  Number of trains delayed > 30min                                               2499 non-null   Float64       \n",
      " 16  Number of trains delayed > 60min                                               2499 non-null   Float64       \n",
      " 17  Pct delay due to external causes                                               2499 non-null   Float64       \n",
      " 18  Pct delay due to infrastructure                                                2302 non-null   Float64       \n",
      " 19  Pct delay due to traffic management                                            2313 non-null   Float64       \n",
      " 20  Pct delay due to rolling stock                                                 2309 non-null   Float64       \n",
      " 21  Pct delay due to station management and equipment reuse                        2499 non-null   Float64       \n",
      " 22  Pct delay due to passenger handling (crowding, disabled persons, connections)  2499 non-null   Float64       \n",
      "dtypes: Float64(19), datetime64[ns](1), string(3)\n",
      "memory usage: 514.9 KB\n"
     ]
    }
   ],
   "source": [
    "csv = csv.dropna(subset=\"Pct delay due to passenger handling (crowding, disabled persons, connections)\")\n",
    "csv[\"Pct delay due to passenger handling (crowding, disabled persons, connections)\"] = csv[\"Pct delay due to passenger handling (crowding, disabled persons, connections)\"].convert_dtypes()\n",
    "csv.info()"
   ]
  }
 ],
 "metadata": {
  "kernelspec": {
   "display_name": "Python 3",
   "language": "python",
   "name": "python3"
  },
  "language_info": {
   "codemirror_mode": {
    "name": "ipython",
    "version": 3
   },
   "file_extension": ".py",
   "mimetype": "text/x-python",
   "name": "python",
   "nbconvert_exporter": "python",
   "pygments_lexer": "ipython3",
   "version": "3.12.3"
  }
 },
 "nbformat": 4,
 "nbformat_minor": 2
}
