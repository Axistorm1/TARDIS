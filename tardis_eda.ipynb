{
 "cells": [
  {
   "cell_type": "markdown",
   "metadata": {},
   "source": [
    "We first import pandas to read, parse, store and do anything to our dataframe followed by numpy for matrices and math functions\n",
    "\n",
    "<img src=\"https://upload.wikimedia.org/wikipedia/commons/thumb/e/ed/Pandas_logo.svg/1920px-Pandas_logo.svg.png\" width=\"512\" height=\"207\">\n",
    "\n",
    "<img src=\"https://upload.wikimedia.org/wikipedia/commons/thumb/3/31/NumPy_logo_2020.svg/1920px-NumPy_logo_2020.svg.png\" width=\"512\" height=\"230\">\n",
    "\n"
   ]
  },
  {
   "cell_type": "code",
   "execution_count": 20,
   "metadata": {},
   "outputs": [],
   "source": [
    "import pandas as pd\n",
    "import numpy as np"
   ]
  },
  {
   "cell_type": "markdown",
   "metadata": {},
   "source": [
    "We start by reading the \"dataset.csv\" file and make it a dataframe <br>\n",
    "The delimiter in the dataset is ';'"
   ]
  },
  {
   "cell_type": "code",
   "execution_count": 21,
   "metadata": {},
   "outputs": [],
   "source": [
    "csv = pd.read_csv(\"dataset.csv\", sep=';')"
   ]
  },
  {
   "cell_type": "markdown",
   "metadata": {},
   "source": [
    "Remove all comment columns since they're not data"
   ]
  },
  {
   "cell_type": "code",
   "execution_count": 22,
   "metadata": {},
   "outputs": [],
   "source": [
    "csv = csv.drop(\"Cancellation comments\", axis=1)\n",
    "csv = csv.drop(\"Departure delay comments\", axis=1)\n",
    "csv = csv.drop(\"Arrival delay comments\", axis=1)"
   ]
  },
  {
   "cell_type": "markdown",
   "metadata": {},
   "source": [
    "Remove all duplicates"
   ]
  },
  {
   "cell_type": "code",
   "execution_count": 23,
   "metadata": {},
   "outputs": [],
   "source": [
    "csv = csv.drop_duplicates()"
   ]
  },
  {
   "cell_type": "markdown",
   "metadata": {},
   "source": [
    "# Clean Date column\n",
    "The date format must be %Y-%m (A year and a month) <br>\n",
    "We replace all wrong delimiters by a '-' <br>\n",
    "We convert all the strings to datetimes under the wanted format <br>\n",
    "We exclude all data from before 2000 and after today <br>"
   ]
  },
  {
   "cell_type": "code",
   "execution_count": 24,
   "metadata": {},
   "outputs": [],
   "source": [
    "csv[\"Date\"] = csv[\"Date\"].astype(str).str.replace(r\"(\\d{4})\\w(\\d{2})\", r\"\\1-\\2\", regex=True)\n",
    "csv[\"Date\"] = pd.to_datetime(csv[\"Date\"], errors=\"coerce\", format=\"%Y-%m\")\n",
    "today = pd.to_datetime(\"today\").normalize()\n",
    "csv.loc[(csv.Date < \"2000-01-01\") | (csv.Date > today), \"Date\"] = pd.NaT"
   ]
  },
  {
   "cell_type": "markdown",
   "metadata": {},
   "source": [
    "Clean Service column"
   ]
  },
  {
   "cell_type": "code",
   "execution_count": 25,
   "metadata": {},
   "outputs": [],
   "source": [
    "csv[\"Service\"] = csv[\"Service\"].convert_dtypes(str)"
   ]
  },
  {
   "cell_type": "markdown",
   "metadata": {},
   "source": [
    "Clean Departure station"
   ]
  },
  {
   "cell_type": "code",
   "execution_count": 26,
   "metadata": {},
   "outputs": [],
   "source": [
    "csv[\"Departure station\"] = csv[\"Departure station\"].convert_dtypes(str)\n",
    "mask = csv[\"Departure station\"].str.contains(r\".+\\d.+\", na=False)\n",
    "csv.loc[mask, \"Departure station\"] = np.nan"
   ]
  },
  {
   "cell_type": "markdown",
   "metadata": {},
   "source": [
    "Clean Arrival station"
   ]
  },
  {
   "cell_type": "code",
   "execution_count": 27,
   "metadata": {},
   "outputs": [],
   "source": [
    "csv[\"Arrival station\"] = csv[\"Arrival station\"].convert_dtypes(str)\n",
    "mask = csv[\"Arrival station\"].str.contains(r\".+\\d.+\", na=False)\n",
    "csv.loc[mask, \"Arrival station\"] = np.nan"
   ]
  },
  {
   "cell_type": "markdown",
   "metadata": {},
   "source": [
    "Clean Average journey time"
   ]
  },
  {
   "cell_type": "code",
   "execution_count": 28,
   "metadata": {},
   "outputs": [
    {
     "name": "stdout",
     "output_type": "stream",
     "text": [
      "            Date   Service   Departure station       Arrival station  \\\n",
      "0     2018-01-01  National    BORDEAUX ST JEAN    PARIS MONTPARNASSE   \n",
      "1     2018-01-01  National   LA ROCHELLE VILLE    PARIS MONTPARNASSE   \n",
      "2     2018-01-01  National  PARIS MONTPARNASSE               QUIMPER   \n",
      "3     2018-01-01  National  PARIS MONTPARNASSE               ST MALO   \n",
      "4     2018-01-01  National  PARIS MONTPARNASSE   ST PIERRE DES CORPS   \n",
      "...          ...       ...                 ...                   ...   \n",
      "10835 2020-04-01  National           PARIS EST            STRASBOURG   \n",
      "10836 2020-05-01  National                <NA>        LYON PART DIEU   \n",
      "10837 2021-03-01  National          PARIS LYON    VALENCE ALIXAN TGV   \n",
      "10838 2019-07-01  National     MARNE LA VALLEE  MARSEILLE ST CHARLES   \n",
      "10839 2019-01-01  Nataonal               bIMES            PARIS LYON   \n",
      "\n",
      "       Average journey time  Number of scheduled trains  \\\n",
      "0                     141.0                         NaN   \n",
      "1                     165.0                  222.000000   \n",
      "2                     220.0                  248.000000   \n",
      "3                     156.0                  102.000000   \n",
      "4                      61.0                  391.000000   \n",
      "...                     ...                         ...   \n",
      "10835                  <NA>                   40.000000   \n",
      "10836                 115.0                 2681.206158   \n",
      "10837                 130.0                  178.000000   \n",
      "10838                 217.0                  268.000000   \n",
      "10839           1702.593801                  309.000000   \n",
      "\n",
      "       Number of cancelled trains  Number of trains delayed at departure  \\\n",
      "0                             5.0                                  289.0   \n",
      "1                             NaN                                    8.0   \n",
      "2                             1.0                                   37.0   \n",
      "3                             0.0                                   12.0   \n",
      "4                             2.0                                   61.0   \n",
      "...                           ...                                    ...   \n",
      "10835                        35.0                                    5.0   \n",
      "10836                        14.0                                   46.0   \n",
      "10837                        10.0                                    5.0   \n",
      "10838                         NaN                                  238.0   \n",
      "10839                         3.0                                  104.0   \n",
      "\n",
      "       Average delay of late trains at departure  \\\n",
      "0                                      11.247809   \n",
      "1                                       2.875000   \n",
      "2                                       9.501351   \n",
      "3                                      19.912500   \n",
      "4                                            NaN   \n",
      "...                                          ...   \n",
      "10835                                   1.253333   \n",
      "10836                                   6.258333   \n",
      "10837                                   2.946667   \n",
      "10838                                  10.391667   \n",
      "10839                                   9.353526   \n",
      "\n",
      "       Average delay of all trains at departure  ...  \\\n",
      "0                                      3.693179  ...   \n",
      "1                                      0.095796  ...   \n",
      "2                                           NaN  ...   \n",
      "3                                      1.966667  ...   \n",
      "4                                      0.886889  ...   \n",
      "...                                         ...  ...   \n",
      "10835                                  1.253333  ...   \n",
      "10836                                  5.865986  ...   \n",
      "10837                                 -0.105060  ...   \n",
      "10838                                  9.198072  ...   \n",
      "10839                                  3.315305  ...   \n",
      "\n",
      "       Number of trains delayed > 15min  \\\n",
      "0                                 110.0   \n",
      "1                                  22.0   \n",
      "2                                  26.0   \n",
      "3                                   8.0   \n",
      "4                                  17.0   \n",
      "...                                 ...   \n",
      "10835                               3.0   \n",
      "10836                               5.0   \n",
      "10837                               4.0   \n",
      "10838                              66.0   \n",
      "10839                               NaN   \n",
      "\n",
      "       Average delay of trains > 15min (if competing with flights)  \\\n",
      "0                                             346.474287             \n",
      "1                                               5.696096             \n",
      "2                                               7.548387             \n",
      "3                                               6.724757             \n",
      "4                                               3.346487             \n",
      "...                                                  ...             \n",
      "10835                                                NaN             \n",
      "10836                                          47.820000             \n",
      "10837                                          66.254167             \n",
      "10838                                          50.361364             \n",
      "10839                                           3.902669             \n",
      "\n",
      "       Number of trains delayed > 30min  Number of trains delayed > 60min  \\\n",
      "0                                  44.0                               8.0   \n",
      "1                                   5.0                               NaN   \n",
      "2                                  17.0                               7.0   \n",
      "3                                   6.0                               4.0   \n",
      "4                                   6.0                               0.0   \n",
      "...                                 ...                               ...   \n",
      "10835                               3.0                               0.0   \n",
      "10836                               3.0                               1.0   \n",
      "10837                               4.0                               2.0   \n",
      "10838                              34.0                              22.0   \n",
      "10839                              18.0                               NaN   \n",
      "\n",
      "       Pct delay due to external causes  Pct delay due to infrastructure  \\\n",
      "0                             36.134454                        31.092437   \n",
      "1                             15.384615                        30.769231   \n",
      "2                             26.923077                        38.461538   \n",
      "3                             23.076923                       218.650888   \n",
      "4                             21.212121                        42.424242   \n",
      "...                                 ...                              ...   \n",
      "10835                          0.000000                         0.000000   \n",
      "10836                          0.000000                        50.000000   \n",
      "10837                         25.000000                        25.000000   \n",
      "10838                         24.615385                        15.384615   \n",
      "10839                         55.813953                       218.650888   \n",
      "\n",
      "       Pct delay due to traffic management  Pct delay due to rolling stock  \\\n",
      "0                                10.924370                       15.966387   \n",
      "1                                38.461538                       11.538462   \n",
      "2                                      NaN                       19.230769   \n",
      "3                                 7.692308                       15.384615   \n",
      "4                                 9.090909                       21.212121   \n",
      "...                                    ...                             ...   \n",
      "10835                             0.000000                        0.000000   \n",
      "10836                             0.000000                        0.000000   \n",
      "10837                           198.761036                       25.000000   \n",
      "10838                            15.384615                       24.615385   \n",
      "10839                             9.302326                      190.420084   \n",
      "\n",
      "       Pct delay due to station management and equipment reuse  \\\n",
      "0                                               5.042017         \n",
      "1                                               3.846154         \n",
      "2                                               0.000000         \n",
      "3                                               7.692308         \n",
      "4                                               6.060606         \n",
      "...                                                  ...         \n",
      "10835                                           0.000000         \n",
      "10836                                          50.000000         \n",
      "10837                                           0.000000         \n",
      "10838                                          10.769231         \n",
      "10839                                           4.651163         \n",
      "\n",
      "       Pct delay due to passenger handling (crowding, disabled persons, connections)  \n",
      "0                                              75.915730                              \n",
      "1                                               0.000000                              \n",
      "2                                               0.000000                              \n",
      "3                                                    NaN                              \n",
      "4                                               0.000000                              \n",
      "...                                                  ...                              \n",
      "10835                                                NaN                              \n",
      "10836                                           0.000000                              \n",
      "10837                                          25.000000                              \n",
      "10838                                           9.230769                              \n",
      "10839                                           2.325581                              \n",
      "\n",
      "[10662 rows x 23 columns]\n"
     ]
    }
   ],
   "source": [
    "mask = csv[\"Average journey time\"].astype(str).str.contains(r\"[a-zA-Z]\", na=False)\n",
    "csv.loc[mask, \"Average journey time\"] = np.nan\n",
    "csv[\"Average journey time\"] = csv[\"Average journey time\"].convert_dtypes(float)\n",
    "csv.loc[csv[\"Average journey time\"] < 0, \"Average journey time\"] = np.nan"
   ]
  },
  {
   "cell_type": "markdown",
   "metadata": {},
   "source": [
    "Clean Number of scheduled trains"
   ]
  },
  {
   "cell_type": "code",
   "execution_count": 29,
   "metadata": {},
   "outputs": [],
   "source": [
    "mask = csv[\"Number of scheduled trains\"].astype(str).str.contains(r\"[a-zA-Z]\", na=False)\n",
    "csv.loc[mask, \"Number of scheduled trains\"] = np.nan\n",
    "csv[\"Number of scheduled trains\"] = (csv[\"Number of scheduled trains\"] % 1 == 0)"
   ]
  },
  {
   "cell_type": "markdown",
   "metadata": {},
   "source": [
    "Clean Number of cancelled trains"
   ]
  },
  {
   "cell_type": "code",
   "execution_count": 69,
   "metadata": {},
   "outputs": [],
   "source": []
  },
  {
   "cell_type": "markdown",
   "metadata": {},
   "source": [
    "Clean Number of trains delayed at departure"
   ]
  },
  {
   "cell_type": "code",
   "execution_count": 70,
   "metadata": {},
   "outputs": [],
   "source": []
  },
  {
   "cell_type": "markdown",
   "metadata": {},
   "source": [
    "Clean Average delay of late trains at departure"
   ]
  },
  {
   "cell_type": "code",
   "execution_count": 71,
   "metadata": {},
   "outputs": [],
   "source": []
  },
  {
   "cell_type": "markdown",
   "metadata": {},
   "source": [
    "Clean Average delay of all trains at departure"
   ]
  },
  {
   "cell_type": "code",
   "execution_count": 72,
   "metadata": {},
   "outputs": [],
   "source": []
  },
  {
   "cell_type": "markdown",
   "metadata": {},
   "source": [
    "Clean Number of trains delayed at arrival"
   ]
  },
  {
   "cell_type": "code",
   "execution_count": 73,
   "metadata": {},
   "outputs": [],
   "source": [
    "\n"
   ]
  },
  {
   "cell_type": "markdown",
   "metadata": {},
   "source": [
    "Clean Average delay of late trains at arrival"
   ]
  },
  {
   "cell_type": "code",
   "execution_count": 74,
   "metadata": {},
   "outputs": [],
   "source": [
    "\n"
   ]
  },
  {
   "cell_type": "markdown",
   "metadata": {},
   "source": [
    "Clean Average delay of all trains at arrival"
   ]
  },
  {
   "cell_type": "code",
   "execution_count": 75,
   "metadata": {},
   "outputs": [],
   "source": []
  },
  {
   "cell_type": "markdown",
   "metadata": {},
   "source": [
    "Clean Number of trains delayed > 15 min"
   ]
  },
  {
   "cell_type": "code",
   "execution_count": 76,
   "metadata": {},
   "outputs": [],
   "source": []
  },
  {
   "cell_type": "markdown",
   "metadata": {},
   "source": [
    "Clean Average delay of trains > 15min (if competing with flights)"
   ]
  },
  {
   "cell_type": "code",
   "execution_count": 77,
   "metadata": {},
   "outputs": [],
   "source": []
  },
  {
   "cell_type": "markdown",
   "metadata": {},
   "source": [
    "Clean Number of trains delayed > 30min"
   ]
  },
  {
   "cell_type": "code",
   "execution_count": 78,
   "metadata": {},
   "outputs": [],
   "source": []
  },
  {
   "cell_type": "markdown",
   "metadata": {},
   "source": [
    "Clean Number of trains delayed > 60min"
   ]
  },
  {
   "cell_type": "code",
   "execution_count": 79,
   "metadata": {},
   "outputs": [],
   "source": []
  },
  {
   "cell_type": "markdown",
   "metadata": {},
   "source": [
    "Clean Pct delay due to external causes"
   ]
  },
  {
   "cell_type": "code",
   "execution_count": 80,
   "metadata": {},
   "outputs": [],
   "source": []
  },
  {
   "cell_type": "markdown",
   "metadata": {},
   "source": [
    "Clean Pct delay due to infrastructure"
   ]
  },
  {
   "cell_type": "code",
   "execution_count": 81,
   "metadata": {},
   "outputs": [],
   "source": []
  },
  {
   "cell_type": "markdown",
   "metadata": {},
   "source": [
    "CleanPct delay due to traffic management"
   ]
  },
  {
   "cell_type": "code",
   "execution_count": 82,
   "metadata": {},
   "outputs": [],
   "source": []
  },
  {
   "cell_type": "markdown",
   "metadata": {},
   "source": [
    "Clean Pct delay due to rolling stock"
   ]
  },
  {
   "cell_type": "code",
   "execution_count": 83,
   "metadata": {},
   "outputs": [],
   "source": []
  },
  {
   "cell_type": "markdown",
   "metadata": {},
   "source": [
    "Clean Pct delay due to station management and equipment reuse"
   ]
  },
  {
   "cell_type": "code",
   "execution_count": 84,
   "metadata": {},
   "outputs": [],
   "source": []
  },
  {
   "cell_type": "markdown",
   "metadata": {},
   "source": [
    "Clean Pct delay due to passenger handling (crowding, disabled persons, connections)"
   ]
  },
  {
   "cell_type": "code",
   "execution_count": null,
   "metadata": {},
   "outputs": [],
   "source": []
  }
 ],
 "metadata": {
  "kernelspec": {
   "display_name": "Python 3",
   "language": "python",
   "name": "python3"
  },
  "language_info": {
   "codemirror_mode": {
    "name": "ipython",
    "version": 3
   },
   "file_extension": ".py",
   "mimetype": "text/x-python",
   "name": "python",
   "nbconvert_exporter": "python",
   "pygments_lexer": "ipython3",
   "version": "3.12.3"
  }
 },
 "nbformat": 4,
 "nbformat_minor": 2
}
